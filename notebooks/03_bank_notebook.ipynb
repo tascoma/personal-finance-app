{
 "cells": [
  {
   "attachments": {},
   "cell_type": "markdown",
   "metadata": {},
   "source": [
    "## Imports"
   ]
  },
  {
   "cell_type": "code",
   "execution_count": 34,
   "metadata": {},
   "outputs": [],
   "source": [
    "import pandas as pd\n",
    "import numpy as np\n",
    "import configparser\n",
    "import os\n",
    "import sys"
   ]
  },
  {
   "cell_type": "code",
   "execution_count": 35,
   "metadata": {},
   "outputs": [],
   "source": [
    "cwd = os.getcwd()"
   ]
  },
  {
   "cell_type": "code",
   "execution_count": 36,
   "metadata": {},
   "outputs": [],
   "source": [
    "module_path = os.path.join(cwd, '..')\n",
    "if module_path not in sys.path:\n",
    "    sys.path.append(module_path)"
   ]
  },
  {
   "cell_type": "code",
   "execution_count": 37,
   "metadata": {},
   "outputs": [],
   "source": [
    "import financialstatements"
   ]
  },
  {
   "attachments": {},
   "cell_type": "markdown",
   "metadata": {},
   "source": [
    "## Config"
   ]
  },
  {
   "cell_type": "code",
   "execution_count": 38,
   "metadata": {},
   "outputs": [
    {
     "data": {
      "text/plain": [
       "['c:\\\\Users\\\\tasco\\\\OneDrive\\\\Python\\\\Projects\\\\financialstatements\\\\financialstatements\\\\notebooks\\\\../docs/config.ini']"
      ]
     },
     "execution_count": 38,
     "metadata": {},
     "output_type": "execute_result"
    }
   ],
   "source": [
    "#Creating configuration\n",
    "config_path = os.path.join(cwd, '../docs/config.ini')\n",
    "config = configparser.ConfigParser()\n",
    "config.read(config_path)"
   ]
  },
  {
   "attachments": {},
   "cell_type": "markdown",
   "metadata": {},
   "source": [
    "## Reading Data"
   ]
  },
  {
   "attachments": {},
   "cell_type": "markdown",
   "metadata": {},
   "source": [
    "### Bank Data"
   ]
  },
  {
   "cell_type": "code",
   "execution_count": 39,
   "metadata": {},
   "outputs": [],
   "source": [
    "BANK_DIRECTORY = os.path.join(cwd,config.get(\"data_inputs_directory\", \"BANK_DIRECTORY\"))"
   ]
  },
  {
   "cell_type": "code",
   "execution_count": 40,
   "metadata": {},
   "outputs": [],
   "source": [
    "paths = financialstatements.creating_input_paths(BANK_DIRECTORY)"
   ]
  },
  {
   "cell_type": "code",
   "execution_count": 41,
   "metadata": {},
   "outputs": [],
   "source": [
    "df = financialstatements.creating_df(paths)"
   ]
  },
  {
   "attachments": {},
   "cell_type": "markdown",
   "metadata": {},
   "source": [
    "### Table Data"
   ]
  },
  {
   "cell_type": "code",
   "execution_count": 42,
   "metadata": {},
   "outputs": [],
   "source": [
    "MONTH_DATA = config.get('table_files', 'MONTH_DATA')"
   ]
  },
  {
   "cell_type": "code",
   "execution_count": 43,
   "metadata": {},
   "outputs": [],
   "source": [
    "month_df = pd.read_excel(MONTH_DATA)"
   ]
  },
  {
   "attachments": {},
   "cell_type": "markdown",
   "metadata": {},
   "source": [
    "## ETL"
   ]
  },
  {
   "cell_type": "code",
   "execution_count": 44,
   "metadata": {},
   "outputs": [],
   "source": [
    "def processing_df(df):\n",
    "    df['Date'] = pd.to_datetime(df['Date'])\n",
    "    df['Amount'] = df['Amount'].str.replace('$', '', regex=False)\n",
    "    df['Amount'] = df['Amount'].str.replace(',', '')\n",
    "    df['Amount'] = df['Amount'].astype('float')\n",
    "    df['DEBIT'] = np.where(df['Amount'] < 0, df['Amount'], np.nan)\n",
    "    df['DEBIT'] = df['DEBIT'].abs()\n",
    "    df['CREDIT'] = np.where(df['Amount'] > 0, df['Amount'], np.nan)\n",
    "    df['GL_Code'] = np.nan\n",
    "    df['Account'] = np.nan\n",
    "    df = df.sort_values(by='Date').reset_index(drop=True)\n",
    "    df['Order_Col'] = df.index + 1\n",
    "    df['Sub_Order_Col'] = np.where(df['DEBIT'].isnull(), 2, 1)\n",
    "    return df[['Date', 'GL_Code', 'Account', 'Description','DEBIT', 'CREDIT', 'Order_Col', 'Sub_Order_Col']]"
   ]
  },
  {
   "cell_type": "code",
   "execution_count": 45,
   "metadata": {},
   "outputs": [],
   "source": [
    "def removing_duplicates(df):\n",
    "    keywords = ['WAL-MART ASSOCS. PAYROLL', 'CARDMEMBER SERV WEB PYMT']\n",
    "    mask = df['Description'].str.contains('|'.join(keywords))\n",
    "    return df[~mask]"
   ]
  },
  {
   "cell_type": "code",
   "execution_count": 46,
   "metadata": {},
   "outputs": [],
   "source": [
    "def creating_credit_entries(df):\n",
    "    df = df[df['CREDIT'].isnull()].reset_index(drop=True).copy()\n",
    "    df['GL_Code'] = 100101\n",
    "    df['Account'] = 'Free Checking Bank OZK'\n",
    "    df['Sub_Order_Col'] = 2\n",
    "    df = df.rename(columns={'DEBIT':'CREDIT', 'CREDIT': 'DEBIT'})\n",
    "    return df[['Date', 'GL_Code', 'Account', 'Description','DEBIT','CREDIT','Order_Col', 'Sub_Order_Col']]"
   ]
  },
  {
   "cell_type": "code",
   "execution_count": 47,
   "metadata": {},
   "outputs": [],
   "source": [
    "def creating_debit_entries(df):\n",
    "    df = df[df['DEBIT'].isnull()].reset_index(drop=True).copy()\n",
    "    df['GL_Code'] = 100101\n",
    "    df['Account'] = 'Free Checking Bank OZK'\n",
    "    df['Sub_Order_Col'] = 1\n",
    "    df = df.rename(columns={'DEBIT':'CREDIT', 'CREDIT': 'DEBIT'})\n",
    "    return df[['Date', 'GL_Code', 'Account', 'Description','DEBIT','CREDIT','Order_Col','Sub_Order_Col']]"
   ]
  },
  {
   "cell_type": "code",
   "execution_count": 48,
   "metadata": {},
   "outputs": [],
   "source": [
    "df = processing_df(df)"
   ]
  },
  {
   "cell_type": "code",
   "execution_count": 49,
   "metadata": {},
   "outputs": [],
   "source": [
    "df = removing_duplicates(df)"
   ]
  },
  {
   "cell_type": "code",
   "execution_count": 50,
   "metadata": {},
   "outputs": [],
   "source": [
    "credit_entries_df = creating_credit_entries(df)"
   ]
  },
  {
   "cell_type": "code",
   "execution_count": 51,
   "metadata": {},
   "outputs": [],
   "source": [
    "debit_entries_df = creating_debit_entries(df)"
   ]
  },
  {
   "cell_type": "code",
   "execution_count": 52,
   "metadata": {},
   "outputs": [],
   "source": [
    "df = pd.concat([df, credit_entries_df, debit_entries_df])"
   ]
  },
  {
   "cell_type": "code",
   "execution_count": 53,
   "metadata": {},
   "outputs": [],
   "source": [
    "df = df.sort_values(by=['Order_Col','Sub_Order_Col']).reset_index(drop=True)"
   ]
  },
  {
   "cell_type": "code",
   "execution_count": 55,
   "metadata": {},
   "outputs": [],
   "source": [
    "type = 'bank'"
   ]
  },
  {
   "cell_type": "code",
   "execution_count": 56,
   "metadata": {},
   "outputs": [],
   "source": [
    "financialstatements.creating_output(df, month_df, type, config, cwd)"
   ]
  }
 ],
 "metadata": {
  "kernelspec": {
   "display_name": "venv_mac",
   "language": "python",
   "name": "python3"
  },
  "language_info": {
   "codemirror_mode": {
    "name": "ipython",
    "version": 3
   },
   "file_extension": ".py",
   "mimetype": "text/x-python",
   "name": "python",
   "nbconvert_exporter": "python",
   "pygments_lexer": "ipython3",
   "version": "3.10.11"
  },
  "orig_nbformat": 4
 },
 "nbformat": 4,
 "nbformat_minor": 2
}
