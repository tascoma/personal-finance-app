{
 "cells": [
  {
   "attachments": {},
   "cell_type": "markdown",
   "metadata": {},
   "source": [
    "## Imports"
   ]
  },
  {
   "cell_type": "code",
   "execution_count": 1,
   "metadata": {},
   "outputs": [],
   "source": [
    "import pandas as pd\n",
    "import configparser\n",
    "import os"
   ]
  },
  {
   "cell_type": "code",
   "execution_count": 2,
   "metadata": {},
   "outputs": [],
   "source": [
    "cwd = os.getcwd()\n",
    "pd.set_option('display.max_columns', None)\n",
    "pd.set_option('display.max_rows', None)"
   ]
  },
  {
   "attachments": {},
   "cell_type": "markdown",
   "metadata": {},
   "source": [
    "## Config"
   ]
  },
  {
   "cell_type": "code",
   "execution_count": 3,
   "metadata": {},
   "outputs": [
    {
     "data": {
      "text/plain": [
       "['c:\\\\Users\\\\tasco\\\\OneDrive\\\\Python\\\\Projects\\\\financialstatements\\\\financialstatements\\\\notebooks\\\\../docs/config.ini']"
      ]
     },
     "execution_count": 3,
     "metadata": {},
     "output_type": "execute_result"
    }
   ],
   "source": [
    "#Creating configuration\n",
    "config_path = os.path.join(cwd, '../docs/config.ini')\n",
    "config = configparser.ConfigParser()\n",
    "config.read(config_path)"
   ]
  },
  {
   "attachments": {},
   "cell_type": "markdown",
   "metadata": {},
   "source": [
    "## Reading Data"
   ]
  },
  {
   "attachments": {},
   "cell_type": "markdown",
   "metadata": {},
   "source": [
    "### Credit Card Data"
   ]
  },
  {
   "cell_type": "code",
   "execution_count": 4,
   "metadata": {},
   "outputs": [],
   "source": [
    "# Creating directory to credit card data\n",
    "CREDITCARD_DIRECTORY = os.path.join(cwd,config.get(\"data_inputs_directory\", \"CREDITCARD_DIRECTORY\"))"
   ]
  },
  {
   "cell_type": "code",
   "execution_count": 5,
   "metadata": {},
   "outputs": [],
   "source": [
    "# Listing out files in credit card directory\n",
    "creditcard_files = os.listdir(CREDITCARD_DIRECTORY)"
   ]
  },
  {
   "cell_type": "code",
   "execution_count": 6,
   "metadata": {},
   "outputs": [],
   "source": [
    "# Creating paths to data\n",
    "creditcard_paths = []\n",
    "for file in creditcard_files:\n",
    "    path = os.path.join(CREDITCARD_DIRECTORY, file)\n",
    "    creditcard_paths.append(path)"
   ]
  },
  {
   "cell_type": "code",
   "execution_count": 7,
   "metadata": {},
   "outputs": [],
   "source": [
    "# Creating data frames\n",
    "dfs = []\n",
    "for path in creditcard_paths:\n",
    "    df = pd.read_csv(path)\n",
    "    dfs.append(df)"
   ]
  },
  {
   "cell_type": "code",
   "execution_count": 8,
   "metadata": {},
   "outputs": [],
   "source": [
    "# appending data together\n",
    "creditcard_df = pd.concat(dfs).reset_index(drop=True)"
   ]
  },
  {
   "attachments": {},
   "cell_type": "markdown",
   "metadata": {},
   "source": [
    "### Table Data"
   ]
  },
  {
   "cell_type": "code",
   "execution_count": 9,
   "metadata": {},
   "outputs": [],
   "source": [
    "# Reading \n",
    "COA_DATA = config.get('table_files', 'COA_DATA')\n",
    "MONTH_DATA = config.get('table_files', 'MONTH_DATA')"
   ]
  },
  {
   "cell_type": "code",
   "execution_count": 10,
   "metadata": {},
   "outputs": [],
   "source": [
    "coa_mcc_df = pd.read_excel(COA_DATA, sheet_name='coa_mcc_link_table')"
   ]
  },
  {
   "cell_type": "code",
   "execution_count": 11,
   "metadata": {},
   "outputs": [],
   "source": [
    "month_df = pd.read_excel(MONTH_DATA)"
   ]
  },
  {
   "attachments": {},
   "cell_type": "markdown",
   "metadata": {},
   "source": [
    "## ETL"
   ]
  },
  {
   "cell_type": "code",
   "execution_count": 12,
   "metadata": {},
   "outputs": [],
   "source": [
    "# Changing Date to Datetime dtype\n",
    "creditcard_df['Date'] = pd.to_datetime(creditcard_df['Date'])"
   ]
  },
  {
   "cell_type": "code",
   "execution_count": 13,
   "metadata": {},
   "outputs": [],
   "source": [
    "# Changing Amount to absolute amount\n",
    "creditcard_df['Amount'] = creditcard_df['Amount'].abs()"
   ]
  },
  {
   "cell_type": "code",
   "execution_count": 14,
   "metadata": {},
   "outputs": [],
   "source": [
    "creditcard_df = creditcard_df.pivot_table(index = ['Date', 'Name', 'Memo'], columns='Transaction', values='Amount')\n",
    "creditcard_df = creditcard_df.reset_index()"
   ]
  },
  {
   "cell_type": "code",
   "execution_count": 15,
   "metadata": {},
   "outputs": [],
   "source": [
    "# Delimiting memo field\n",
    "creditcard_df[['Memo', 'MCC', 'Blank']] = creditcard_df['Memo'].str.split(';', expand=True)"
   ]
  },
  {
   "cell_type": "code",
   "execution_count": 16,
   "metadata": {},
   "outputs": [],
   "source": [
    "creditcard_df['MCC'] = creditcard_df['MCC'].str[-4:]"
   ]
  },
  {
   "cell_type": "code",
   "execution_count": 17,
   "metadata": {},
   "outputs": [],
   "source": [
    "creditcard_df['MCC'] = creditcard_df['MCC'].astype('int')"
   ]
  },
  {
   "cell_type": "code",
   "execution_count": 18,
   "metadata": {},
   "outputs": [],
   "source": [
    "creditcard_df = pd.merge(creditcard_df, \n",
    "                        coa_mcc_df, \n",
    "                        how='left',\n",
    "                        on='MCC')"
   ]
  },
  {
   "cell_type": "code",
   "execution_count": 19,
   "metadata": {},
   "outputs": [],
   "source": [
    "# Creating function for counting number of nulls\n",
    "def missing_gl_check(df):\n",
    "    null_count = df['GL_Code'].isnull().sum()\n",
    "    return null_count"
   ]
  },
  {
   "cell_type": "code",
   "execution_count": 20,
   "metadata": {},
   "outputs": [],
   "source": [
    "# Creating function for identifying rows with null GL_Codes\n",
    "def missing_mcc(df):\n",
    "    df = df[df['GL_Code'].isnull()]\n",
    "    return print(df)"
   ]
  },
  {
   "cell_type": "code",
   "execution_count": 21,
   "metadata": {},
   "outputs": [
    {
     "name": "stdout",
     "output_type": "stream",
     "text": [
      "No GL_Codes missing\n"
     ]
    }
   ],
   "source": [
    "# Logic gate for checking nulls in the GL_Code column\n",
    "if missing_gl_check(creditcard_df) != 0:\n",
    "    print(\"GL_Codes are missing, need to update the coa and mcc link table\")\n",
    "    missing_mcc(creditcard_df)\n",
    "else:\n",
    "    print(\"No GL_Codes missing\")"
   ]
  },
  {
   "cell_type": "code",
   "execution_count": 22,
   "metadata": {},
   "outputs": [],
   "source": [
    "creditcard_df['Description'] = creditcard_df['MCC_Description'] + ': ' + creditcard_df['Name']"
   ]
  },
  {
   "cell_type": "code",
   "execution_count": 23,
   "metadata": {},
   "outputs": [],
   "source": [
    "creditcard_df = creditcard_df[['Date', 'GL_Code', 'Account', 'Description','DEBIT', 'CREDIT']]"
   ]
  },
  {
   "cell_type": "code",
   "execution_count": 24,
   "metadata": {},
   "outputs": [],
   "source": [
    "creditcard_df = creditcard_df.round(2)"
   ]
  },
  {
   "cell_type": "code",
   "execution_count": 25,
   "metadata": {},
   "outputs": [],
   "source": [
    "credit_entries = creditcard_df[creditcard_df['CREDIT'].isnull()].reset_index(drop=True).copy()"
   ]
  },
  {
   "cell_type": "code",
   "execution_count": 26,
   "metadata": {},
   "outputs": [],
   "source": [
    "credit_entries['GL_Code'] = 200101\n",
    "credit_entries['Account'] = 'EdwardJones MasterCard'\n",
    "credit_entries = credit_entries.rename(columns={'DEBIT':'CREDIT', 'CREDIT': 'DEBIT'})"
   ]
  },
  {
   "cell_type": "code",
   "execution_count": 27,
   "metadata": {},
   "outputs": [],
   "source": [
    "credit_entries = credit_entries[['Date', 'GL_Code', 'Account', 'Description','DEBIT','CREDIT']]"
   ]
  },
  {
   "cell_type": "code",
   "execution_count": 28,
   "metadata": {},
   "outputs": [],
   "source": [
    "debit_entries = creditcard_df[creditcard_df['DEBIT'].isnull()].reset_index(drop=True).copy()"
   ]
  },
  {
   "cell_type": "code",
   "execution_count": 29,
   "metadata": {},
   "outputs": [],
   "source": [
    "debit_entries['GL_Code'] = 200101\n",
    "debit_entries['Account'] = 'EdwardJones MasterCard'\n",
    "debit_entries = debit_entries.rename(columns={'DEBIT':'CREDIT', 'CREDIT': 'DEBIT'})"
   ]
  },
  {
   "cell_type": "code",
   "execution_count": 30,
   "metadata": {},
   "outputs": [],
   "source": [
    "debit_entries = debit_entries[['Date', 'GL_Code', 'Account', 'Description','DEBIT','CREDIT']]"
   ]
  },
  {
   "cell_type": "code",
   "execution_count": 31,
   "metadata": {},
   "outputs": [],
   "source": [
    "creditcard_df = pd.concat([creditcard_df, credit_entries, debit_entries]).reset_index(drop=True)"
   ]
  },
  {
   "cell_type": "code",
   "execution_count": 32,
   "metadata": {},
   "outputs": [],
   "source": [
    "def debit_credit_check(df):\n",
    "    debit_total = df['DEBIT'].sum()\n",
    "    credit_total = df['CREDIT'].sum()\n",
    "    return debit_total == credit_total"
   ]
  },
  {
   "cell_type": "code",
   "execution_count": 33,
   "metadata": {},
   "outputs": [
    {
     "name": "stdout",
     "output_type": "stream",
     "text": [
      "Debits equal credits. Proceed to next phase\n"
     ]
    }
   ],
   "source": [
    "if debit_credit_check(creditcard_df) == True:\n",
    "    print(\"Debits equal credits. Proceed to next phase\")\n",
    "else:\n",
    "    print(\"Something went wrong\")"
   ]
  },
  {
   "cell_type": "code",
   "execution_count": 34,
   "metadata": {},
   "outputs": [],
   "source": [
    "creditcard_df['Month_Num'] = creditcard_df['Date'].dt.month"
   ]
  },
  {
   "cell_type": "code",
   "execution_count": 35,
   "metadata": {},
   "outputs": [],
   "source": [
    "creditcard_df = creditcard_df.sort_values(by='Date').reset_index(drop=True)"
   ]
  },
  {
   "cell_type": "code",
   "execution_count": 36,
   "metadata": {},
   "outputs": [],
   "source": [
    "creditcard_df['Transaction_ID'] = 'cc-' + creditcard_df['Month_Num'].astype(\"str\") + '-' + (creditcard_df.index + 1).astype(\"str\")"
   ]
  },
  {
   "cell_type": "code",
   "execution_count": 37,
   "metadata": {},
   "outputs": [],
   "source": [
    "creditcard_df = pd.merge(creditcard_df,\n",
    "                         month_df,\n",
    "                         on='Month_Num',\n",
    "                         how='left')"
   ]
  },
  {
   "cell_type": "code",
   "execution_count": 38,
   "metadata": {},
   "outputs": [],
   "source": [
    "months = creditcard_df['Month'].unique()"
   ]
  },
  {
   "cell_type": "code",
   "execution_count": 39,
   "metadata": {},
   "outputs": [],
   "source": [
    "file_path = config.get(\"data_outputs_directory\", \"JOURNAL_ENTRIES\")\n",
    "month_num = 1\n",
    "for month in months:\n",
    "    df = creditcard_df[creditcard_df['Month'] == month]\n",
    "    df =  df[['Transaction_ID','Date', 'GL_Code', 'Account', 'Description', 'DEBIT', 'CREDIT']]\n",
    "    file_name = f'{month_num}_creditcard_{month}_entries.csv'\n",
    "    df.to_csv(os.path.join(file_path, file_name), index=False)\n",
    "    month_num += 1"
   ]
  }
 ],
 "metadata": {
  "kernelspec": {
   "display_name": "venv_mac",
   "language": "python",
   "name": "python3"
  },
  "language_info": {
   "codemirror_mode": {
    "name": "ipython",
    "version": 3
   },
   "file_extension": ".py",
   "mimetype": "text/x-python",
   "name": "python",
   "nbconvert_exporter": "python",
   "pygments_lexer": "ipython3",
   "version": "3.10.10"
  },
  "orig_nbformat": 4
 },
 "nbformat": 4,
 "nbformat_minor": 2
}
