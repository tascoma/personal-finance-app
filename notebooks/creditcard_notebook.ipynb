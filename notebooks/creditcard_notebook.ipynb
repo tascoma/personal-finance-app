{
 "cells": [
  {
   "attachments": {},
   "cell_type": "markdown",
   "metadata": {},
   "source": [
    "## Imports"
   ]
  },
  {
   "cell_type": "code",
   "execution_count": 1118,
   "metadata": {},
   "outputs": [],
   "source": [
    "import pandas as pd\n",
    "import openpyxl\n",
    "import configparser\n",
    "import os"
   ]
  },
  {
   "cell_type": "code",
   "execution_count": 1119,
   "metadata": {},
   "outputs": [],
   "source": [
    "cwd = os.getcwd()\n",
    "pd.set_option('display.max_columns', None)\n",
    "pd.set_option('display.max_rows', None)"
   ]
  },
  {
   "attachments": {},
   "cell_type": "markdown",
   "metadata": {},
   "source": [
    "## Config"
   ]
  },
  {
   "cell_type": "code",
   "execution_count": 1120,
   "metadata": {},
   "outputs": [
    {
     "data": {
      "text/plain": [
       "['c:\\\\Users\\\\tasco\\\\OneDrive\\\\Python\\\\Projects\\\\financialstatements\\\\financialstatements\\\\notebooks\\\\../docs/config.ini']"
      ]
     },
     "execution_count": 1120,
     "metadata": {},
     "output_type": "execute_result"
    }
   ],
   "source": [
    "config_path = os.path.join(cwd, '../docs/config.ini')\n",
    "config = configparser.ConfigParser()\n",
    "config.read(config_path)"
   ]
  },
  {
   "attachments": {},
   "cell_type": "markdown",
   "metadata": {},
   "source": [
    "## Reading Data"
   ]
  },
  {
   "attachments": {},
   "cell_type": "markdown",
   "metadata": {},
   "source": [
    "### Credit Card Data"
   ]
  },
  {
   "cell_type": "code",
   "execution_count": 1121,
   "metadata": {},
   "outputs": [],
   "source": [
    "CREDITCARD_DIRECTORY = os.path.join(cwd,config.get(\"data_inputs_directory\", \"CREDITCARD_DIRECTORY\"))"
   ]
  },
  {
   "cell_type": "code",
   "execution_count": 1122,
   "metadata": {},
   "outputs": [],
   "source": [
    "creditcard_files = os.listdir(CREDITCARD_DIRECTORY)"
   ]
  },
  {
   "cell_type": "code",
   "execution_count": 1123,
   "metadata": {},
   "outputs": [],
   "source": [
    "creditcard_paths = []\n",
    "for file in creditcard_files:\n",
    "    path = os.path.join(CREDITCARD_DIRECTORY, file)\n",
    "    creditcard_paths.append(path)"
   ]
  },
  {
   "cell_type": "code",
   "execution_count": 1124,
   "metadata": {},
   "outputs": [],
   "source": [
    "dfs = []\n",
    "for path in creditcard_paths:\n",
    "    df = pd.read_csv(path)\n",
    "    dfs.append(df)"
   ]
  },
  {
   "cell_type": "code",
   "execution_count": 1125,
   "metadata": {},
   "outputs": [],
   "source": [
    "creditcard_df = pd.concat(dfs).reset_index(drop=True)"
   ]
  },
  {
   "attachments": {},
   "cell_type": "markdown",
   "metadata": {},
   "source": [
    "### Output Data"
   ]
  },
  {
   "cell_type": "code",
   "execution_count": 1126,
   "metadata": {},
   "outputs": [],
   "source": [
    "OUTPUT_DIRECTORY = os.path.join(cwd,config.get('data_outputs_directory', 'OUTPUT_DIRECTORY'))\n",
    "GL_DATA = config.get('output_files', 'GL_DATA')"
   ]
  },
  {
   "cell_type": "code",
   "execution_count": 1127,
   "metadata": {},
   "outputs": [],
   "source": [
    "gl_df = pd.read_excel(os.path.join(OUTPUT_DIRECTORY, GL_DATA))"
   ]
  },
  {
   "attachments": {},
   "cell_type": "markdown",
   "metadata": {},
   "source": [
    "### Table Data"
   ]
  },
  {
   "cell_type": "code",
   "execution_count": 1128,
   "metadata": {},
   "outputs": [],
   "source": [
    "TABLES_DIRECTORY = os.path.join(cwd,config.get('data_tables_directory', 'TABLES_DIRECTORY'))\n",
    "COA_DATA = config.get('table_files', 'COA_DATA')"
   ]
  },
  {
   "cell_type": "code",
   "execution_count": 1129,
   "metadata": {},
   "outputs": [],
   "source": [
    "workbook = openpyxl.load_workbook(os.path.join(TABLES_DIRECTORY,COA_DATA))\n",
    "sheet_names = workbook.sheetnames"
   ]
  },
  {
   "cell_type": "code",
   "execution_count": 1130,
   "metadata": {},
   "outputs": [],
   "source": [
    "coa_df = pd.read_excel(os.path.join(TABLES_DIRECTORY,COA_DATA), sheet_name=sheet_names[0])\n",
    "mcc_df = pd.read_excel(os.path.join(TABLES_DIRECTORY,COA_DATA), sheet_name=sheet_names[1])\n",
    "coa_mcc_df = pd.read_excel(os.path.join(TABLES_DIRECTORY,COA_DATA), sheet_name=sheet_names[2])"
   ]
  },
  {
   "attachments": {},
   "cell_type": "markdown",
   "metadata": {},
   "source": [
    "## ETL"
   ]
  },
  {
   "cell_type": "code",
   "execution_count": 1131,
   "metadata": {},
   "outputs": [],
   "source": [
    "# Changing Date to Datetime dtype\n",
    "creditcard_df['Date'] = pd.to_datetime(creditcard_df['Date'])"
   ]
  },
  {
   "cell_type": "code",
   "execution_count": 1132,
   "metadata": {},
   "outputs": [],
   "source": [
    "# Changing Amount to absolute amount\n",
    "creditcard_df['Amount'] = creditcard_df['Amount'].abs()"
   ]
  },
  {
   "cell_type": "code",
   "execution_count": 1133,
   "metadata": {},
   "outputs": [],
   "source": [
    "creditcard_df = creditcard_df.pivot_table(index = ['Date', 'Name', 'Memo'], columns='Transaction', values='Amount')\n",
    "creditcard_df = creditcard_df.reset_index()"
   ]
  },
  {
   "cell_type": "code",
   "execution_count": 1134,
   "metadata": {},
   "outputs": [],
   "source": [
    "# Delimiting memo field\n",
    "creditcard_df[['Memo', 'MCC', 'Blank']] = creditcard_df['Memo'].str.split(';', expand=True)"
   ]
  },
  {
   "cell_type": "code",
   "execution_count": 1135,
   "metadata": {},
   "outputs": [],
   "source": [
    "creditcard_df['MCC'] = creditcard_df['MCC'].str[-4:]"
   ]
  },
  {
   "cell_type": "code",
   "execution_count": 1136,
   "metadata": {},
   "outputs": [],
   "source": [
    "creditcard_df['MCC'] = creditcard_df['MCC'].astype('int')"
   ]
  },
  {
   "cell_type": "code",
   "execution_count": 1137,
   "metadata": {},
   "outputs": [],
   "source": [
    "creditcard_df = pd.merge(creditcard_df, \n",
    "                        coa_mcc_df, \n",
    "                        how='left',\n",
    "                        on='MCC')"
   ]
  },
  {
   "cell_type": "code",
   "execution_count": 1138,
   "metadata": {},
   "outputs": [],
   "source": [
    "# Creating function for counting number of nulls\n",
    "def missing_gl_check(df):\n",
    "    null_count = df['GL_Code'].isnull().sum()\n",
    "    return null_count"
   ]
  },
  {
   "cell_type": "code",
   "execution_count": 1139,
   "metadata": {},
   "outputs": [],
   "source": [
    "# Creating function for identifying rows with null GL_Codes\n",
    "def missing_mcc(df):\n",
    "    df = df[df['GL_Code'].isnull()]\n",
    "    return print(df)"
   ]
  },
  {
   "cell_type": "code",
   "execution_count": 1140,
   "metadata": {},
   "outputs": [
    {
     "name": "stdout",
     "output_type": "stream",
     "text": [
      "No GL_Codes missing\n"
     ]
    }
   ],
   "source": [
    "# Logic gate for checking nulls in the GL_Code column\n",
    "if missing_gl_check(creditcard_df) != 0:\n",
    "    print(\"GL_Codes are missing, need to update the coa and mcc link table\")\n",
    "    missing_mcc(creditcard_df)\n",
    "else:\n",
    "    print(\"No GL_Codes missing\")"
   ]
  },
  {
   "cell_type": "code",
   "execution_count": 1141,
   "metadata": {},
   "outputs": [],
   "source": [
    "creditcard_df['Description'] = creditcard_df['MCC_Description'] + ': ' + creditcard_df['Name']"
   ]
  },
  {
   "cell_type": "code",
   "execution_count": 1142,
   "metadata": {},
   "outputs": [],
   "source": [
    "creditcard_df = creditcard_df[['Date', 'GL_Code', 'Account', 'Description','DEBIT', 'CREDIT']]"
   ]
  },
  {
   "cell_type": "code",
   "execution_count": 1143,
   "metadata": {},
   "outputs": [],
   "source": [
    "creditcard_df = creditcard_df.round(2)"
   ]
  },
  {
   "cell_type": "code",
   "execution_count": 1144,
   "metadata": {},
   "outputs": [],
   "source": [
    "credit_entries = creditcard_df[creditcard_df['CREDIT'].isnull()].reset_index(drop=True).copy()"
   ]
  },
  {
   "cell_type": "code",
   "execution_count": 1145,
   "metadata": {},
   "outputs": [],
   "source": [
    "credit_entries['GL_Code'] = 200101\n",
    "credit_entries['Account'] = 'EdwardJones MasterCard'\n",
    "credit_entries = credit_entries.rename(columns={'DEBIT':'CREDIT', 'CREDIT': 'DEBIT'})"
   ]
  },
  {
   "cell_type": "code",
   "execution_count": 1146,
   "metadata": {},
   "outputs": [],
   "source": [
    "credit_entries = credit_entries[['Date', 'GL_Code', 'Account', 'Description','DEBIT','CREDIT']]"
   ]
  },
  {
   "cell_type": "code",
   "execution_count": 1147,
   "metadata": {},
   "outputs": [],
   "source": [
    "debit_entries = creditcard_df[creditcard_df['DEBIT'].isnull()].reset_index(drop=True).copy()"
   ]
  },
  {
   "cell_type": "code",
   "execution_count": 1148,
   "metadata": {},
   "outputs": [],
   "source": [
    "debit_entries['GL_Code'] = 200101\n",
    "debit_entries['Account'] = 'EdwardJones MasterCard'\n",
    "debit_entries = debit_entries.rename(columns={'DEBIT':'CREDIT', 'CREDIT': 'DEBIT'})"
   ]
  },
  {
   "cell_type": "code",
   "execution_count": 1149,
   "metadata": {},
   "outputs": [],
   "source": [
    "debit_entries = debit_entries[['Date', 'GL_Code', 'Account', 'Description','DEBIT','CREDIT']]"
   ]
  },
  {
   "cell_type": "code",
   "execution_count": 1150,
   "metadata": {},
   "outputs": [],
   "source": [
    "creditcard_df = pd.concat([creditcard_df, credit_entries, debit_entries]).reset_index(drop=True)"
   ]
  },
  {
   "cell_type": "code",
   "execution_count": 1151,
   "metadata": {},
   "outputs": [],
   "source": [
    "def debit_credit_check(df):\n",
    "    debit_total = df['DEBIT'].sum()\n",
    "    credit_total = df['CREDIT'].sum()\n",
    "    return debit_total == credit_total"
   ]
  },
  {
   "cell_type": "code",
   "execution_count": 1152,
   "metadata": {},
   "outputs": [
    {
     "name": "stdout",
     "output_type": "stream",
     "text": [
      "Debits equal credits. Proceed to next phase\n",
      "          Date  GL_Code                                            Account  \\\n",
      "0   2023-01-03   600602                                Hobbies - Jiu Jitsu   \n",
      "1   2023-01-03   600301                                          Utilities   \n",
      "2   2023-01-03   600802                 Car Expense - Professional Service   \n",
      "3   2023-01-03   600601               Hobbies - hobby, toy or games stores   \n",
      "4   2023-01-04   600601               Hobbies - hobby, toy or games stores   \n",
      "5   2023-01-09   600201                    Gas - AUTOMATED FUEL DISPENSERS   \n",
      "6   2023-01-09   600501                       Food - Fast Food Restaurants   \n",
      "7   2023-01-10   600501                       Food - Fast Food Restaurants   \n",
      "8   2023-01-10   600501                       Food - Fast Food Restaurants   \n",
      "9   2023-01-10   601003                              Misc - Discount Store   \n",
      "10  2023-01-10   600201                    Gas - AUTOMATED FUEL DISPENSERS   \n",
      "11  2023-01-10   600503                                            Grocery   \n",
      "12  2023-01-11   600501                       Food - Fast Food Restaurants   \n",
      "13  2023-01-11   600501                       Food - Fast Food Restaurants   \n",
      "14  2023-01-11   600503                                            Grocery   \n",
      "15  2023-01-13   600501                       Food - Fast Food Restaurants   \n",
      "16  2023-01-13   600501                       Food - Fast Food Restaurants   \n",
      "17  2023-01-13   600501                       Food - Fast Food Restaurants   \n",
      "18  2023-01-13   601003                              Misc - Discount Store   \n",
      "19  2023-01-17   600501                       Food - Fast Food Restaurants   \n",
      "20  2023-01-17   600501                       Food - Fast Food Restaurants   \n",
      "21  2023-01-17   600501                       Food - Fast Food Restaurants   \n",
      "22  2023-01-17   600501                       Food - Fast Food Restaurants   \n",
      "23  2023-01-17   600503                                            Grocery   \n",
      "24  2023-01-17   600503                                            Grocery   \n",
      "25  2023-01-18   600501                       Food - Fast Food Restaurants   \n",
      "26  2023-01-18   600501                       Food - Fast Food Restaurants   \n",
      "27  2023-01-18   600501                       Food - Fast Food Restaurants   \n",
      "28  2023-01-19   600501                       Food - Fast Food Restaurants   \n",
      "29  2023-01-19   600501                       Food - Fast Food Restaurants   \n",
      "30  2023-01-20   601018                         Misc - Government Services   \n",
      "31  2023-01-20   600501                       Food - Fast Food Restaurants   \n",
      "32  2023-01-20   600502                                 Food - Restaurants   \n",
      "33  2023-01-23   601008                                Misc - Online Store   \n",
      "34  2023-01-23   600501                       Food - Fast Food Restaurants   \n",
      "35  2023-01-23   600501                       Food - Fast Food Restaurants   \n",
      "36  2023-01-23   600501                       Food - Fast Food Restaurants   \n",
      "37  2023-01-23   600501                       Food - Fast Food Restaurants   \n",
      "38  2023-01-23   600503                                            Grocery   \n",
      "39  2023-01-23   600501                       Food - Fast Food Restaurants   \n",
      "40  2023-01-24   600501                       Food - Fast Food Restaurants   \n",
      "41  2023-01-24   600501                       Food - Fast Food Restaurants   \n",
      "42  2023-01-25   600401                                           Internet   \n",
      "43  2023-01-25   600201                    Gas - AUTOMATED FUEL DISPENSERS   \n",
      "44  2023-01-26   600501                       Food - Fast Food Restaurants   \n",
      "45  2023-01-27   600501                       Food - Fast Food Restaurants   \n",
      "46  2023-01-27   600501                       Food - Fast Food Restaurants   \n",
      "47  2023-01-27   600501                       Food - Fast Food Restaurants   \n",
      "48  2023-01-27   600503                                            Grocery   \n",
      "49  2023-01-30   600501                       Food - Fast Food Restaurants   \n",
      "50  2023-01-30   600501                       Food - Fast Food Restaurants   \n",
      "51  2023-01-30   600601               Hobbies - hobby, toy or games stores   \n",
      "52  2023-01-30   600502                                 Food - Restaurants   \n",
      "53  2023-01-30   600501                       Food - Fast Food Restaurants   \n",
      "54  2023-01-30   600503                                            Grocery   \n",
      "55  2023-01-31   600604               Entertainment - digital goods: games   \n",
      "56  2023-02-02   100101                             Free Checking Bank OZK   \n",
      "57  2023-02-02   600503                                            Grocery   \n",
      "58  2023-02-03   600602                                Hobbies - Jiu Jitsu   \n",
      "59  2023-02-03   600501                       Food - Fast Food Restaurants   \n",
      "60  2023-02-06   600501                       Food - Fast Food Restaurants   \n",
      "61  2023-02-06   600501                       Food - Fast Food Restaurants   \n",
      "62  2023-02-06   600501                       Food - Fast Food Restaurants   \n",
      "63  2023-02-06   600501                       Food - Fast Food Restaurants   \n",
      "64  2023-02-06   600301                                          Utilities   \n",
      "65  2023-02-06   600501                       Food - Fast Food Restaurants   \n",
      "66  2023-02-06   600503                                            Grocery   \n",
      "67  2023-02-06   600503                                            Grocery   \n",
      "68  2023-02-08   600501                       Food - Fast Food Restaurants   \n",
      "69  2023-02-08   600501                       Food - Fast Food Restaurants   \n",
      "70  2023-02-08   600501                       Food - Fast Food Restaurants   \n",
      "71  2023-02-08   600601               Hobbies - hobby, toy or games stores   \n",
      "72  2023-02-09   600501                       Food - Fast Food Restaurants   \n",
      "73  2023-02-09   600501                       Food - Fast Food Restaurants   \n",
      "74  2023-02-09   600201                    Gas - AUTOMATED FUEL DISPENSERS   \n",
      "75  2023-02-10   600501                       Food - Fast Food Restaurants   \n",
      "76  2023-02-10   600501                       Food - Fast Food Restaurants   \n",
      "77  2023-02-13   600602                                Hobbies - Jiu Jitsu   \n",
      "78  2023-02-13   600501                       Food - Fast Food Restaurants   \n",
      "79  2023-02-13   600501                       Food - Fast Food Restaurants   \n",
      "80  2023-02-13   600604               Entertainment - digital goods: games   \n",
      "81  2023-02-13   600601               Hobbies - hobby, toy or games stores   \n",
      "82  2023-02-13   600601               Hobbies - hobby, toy or games stores   \n",
      "83  2023-02-13   600601               Hobbies - hobby, toy or games stores   \n",
      "84  2023-02-13   600701                                           Clothing   \n",
      "85  2023-02-13   600503                                            Grocery   \n",
      "86  2023-02-13   600501                       Food - Fast Food Restaurants   \n",
      "87  2023-02-14   601014                                     Misc - Service   \n",
      "88  2023-02-14   600601               Hobbies - hobby, toy or games stores   \n",
      "89  2023-02-15   600501                       Food - Fast Food Restaurants   \n",
      "90  2023-02-15   600502                                 Food - Restaurants   \n",
      "91  2023-02-15   600608                     Entertainment - bowling alleys   \n",
      "92  2023-02-15   600503                                            Grocery   \n",
      "93  2023-02-16   600501                       Food - Fast Food Restaurants   \n",
      "94  2023-02-16   600601               Hobbies - hobby, toy or games stores   \n",
      "95  2023-02-16   600601               Hobbies - hobby, toy or games stores   \n",
      "96  2023-02-16   600601               Hobbies - hobby, toy or games stores   \n",
      "97  2023-02-16   600201                    Gas - AUTOMATED FUEL DISPENSERS   \n",
      "98  2023-02-17   600501                       Food - Fast Food Restaurants   \n",
      "99  2023-02-17   600201                    Gas - AUTOMATED FUEL DISPENSERS   \n",
      "100 2023-02-17   600601               Hobbies - hobby, toy or games stores   \n",
      "101 2023-02-21   600501                       Food - Fast Food Restaurants   \n",
      "102 2023-02-21   600502                                 Food - Restaurants   \n",
      "103 2023-02-21   600501                       Food - Fast Food Restaurants   \n",
      "104 2023-02-21   600601               Hobbies - hobby, toy or games stores   \n",
      "105 2023-02-21   600502                                 Food - Restaurants   \n",
      "106 2023-02-21   600501                       Food - Fast Food Restaurants   \n",
      "107 2023-02-21   600601               Hobbies - hobby, toy or games stores   \n",
      "108 2023-02-21   600601               Hobbies - hobby, toy or games stores   \n",
      "109 2023-02-21   600601               Hobbies - hobby, toy or games stores   \n",
      "110 2023-02-21   600502                                 Food - Restaurants   \n",
      "111 2023-02-22   600501                       Food - Fast Food Restaurants   \n",
      "112 2023-02-23   600501                       Food - Fast Food Restaurants   \n",
      "113 2023-02-23   600501                       Food - Fast Food Restaurants   \n",
      "114 2023-02-23   600501                       Food - Fast Food Restaurants   \n",
      "115 2023-02-23   600503                                            Grocery   \n",
      "116 2023-02-24   600501                       Food - Fast Food Restaurants   \n",
      "117 2023-02-24   600401                                           Internet   \n",
      "118 2023-02-27   600501                       Food - Fast Food Restaurants   \n",
      "119 2023-02-27   600501                       Food - Fast Food Restaurants   \n",
      "120 2023-02-27   600202  Gas - GAS/SERVICE STATIONS WITH/WITHOUT ANCILL...   \n",
      "121 2023-02-27   600601               Hobbies - hobby, toy or games stores   \n",
      "122 2023-02-27   600601               Hobbies - hobby, toy or games stores   \n",
      "123 2023-02-27   600503                                            Grocery   \n",
      "124 2023-02-27   600503                                            Grocery   \n",
      "125 2023-02-27   600501                       Food - Fast Food Restaurants   \n",
      "126 2023-02-27   600503                                            Grocery   \n",
      "127 2023-01-03   200101                             EdwardJones MasterCard   \n",
      "128 2023-01-03   200101                             EdwardJones MasterCard   \n",
      "129 2023-01-03   200101                             EdwardJones MasterCard   \n",
      "130 2023-01-03   200101                             EdwardJones MasterCard   \n",
      "131 2023-01-04   200101                             EdwardJones MasterCard   \n",
      "132 2023-01-09   200101                             EdwardJones MasterCard   \n",
      "133 2023-01-09   200101                             EdwardJones MasterCard   \n",
      "134 2023-01-10   200101                             EdwardJones MasterCard   \n",
      "135 2023-01-10   200101                             EdwardJones MasterCard   \n",
      "136 2023-01-10   200101                             EdwardJones MasterCard   \n",
      "137 2023-01-10   200101                             EdwardJones MasterCard   \n",
      "138 2023-01-10   200101                             EdwardJones MasterCard   \n",
      "139 2023-01-11   200101                             EdwardJones MasterCard   \n",
      "140 2023-01-11   200101                             EdwardJones MasterCard   \n",
      "141 2023-01-11   200101                             EdwardJones MasterCard   \n",
      "142 2023-01-13   200101                             EdwardJones MasterCard   \n",
      "143 2023-01-13   200101                             EdwardJones MasterCard   \n",
      "144 2023-01-13   200101                             EdwardJones MasterCard   \n",
      "145 2023-01-13   200101                             EdwardJones MasterCard   \n",
      "146 2023-01-17   200101                             EdwardJones MasterCard   \n",
      "147 2023-01-17   200101                             EdwardJones MasterCard   \n",
      "148 2023-01-17   200101                             EdwardJones MasterCard   \n",
      "149 2023-01-17   200101                             EdwardJones MasterCard   \n",
      "150 2023-01-17   200101                             EdwardJones MasterCard   \n",
      "151 2023-01-17   200101                             EdwardJones MasterCard   \n",
      "152 2023-01-18   200101                             EdwardJones MasterCard   \n",
      "153 2023-01-18   200101                             EdwardJones MasterCard   \n",
      "154 2023-01-18   200101                             EdwardJones MasterCard   \n",
      "155 2023-01-19   200101                             EdwardJones MasterCard   \n",
      "156 2023-01-19   200101                             EdwardJones MasterCard   \n",
      "157 2023-01-20   200101                             EdwardJones MasterCard   \n",
      "158 2023-01-20   200101                             EdwardJones MasterCard   \n",
      "159 2023-01-20   200101                             EdwardJones MasterCard   \n",
      "160 2023-01-23   200101                             EdwardJones MasterCard   \n",
      "161 2023-01-23   200101                             EdwardJones MasterCard   \n",
      "162 2023-01-23   200101                             EdwardJones MasterCard   \n",
      "163 2023-01-23   200101                             EdwardJones MasterCard   \n",
      "164 2023-01-23   200101                             EdwardJones MasterCard   \n",
      "165 2023-01-23   200101                             EdwardJones MasterCard   \n",
      "166 2023-01-23   200101                             EdwardJones MasterCard   \n",
      "167 2023-01-24   200101                             EdwardJones MasterCard   \n",
      "168 2023-01-24   200101                             EdwardJones MasterCard   \n",
      "169 2023-01-25   200101                             EdwardJones MasterCard   \n",
      "170 2023-01-25   200101                             EdwardJones MasterCard   \n",
      "171 2023-01-26   200101                             EdwardJones MasterCard   \n",
      "172 2023-01-27   200101                             EdwardJones MasterCard   \n",
      "173 2023-01-27   200101                             EdwardJones MasterCard   \n",
      "174 2023-01-27   200101                             EdwardJones MasterCard   \n",
      "175 2023-01-27   200101                             EdwardJones MasterCard   \n",
      "176 2023-01-30   200101                             EdwardJones MasterCard   \n",
      "177 2023-01-30   200101                             EdwardJones MasterCard   \n",
      "178 2023-01-30   200101                             EdwardJones MasterCard   \n",
      "179 2023-01-30   200101                             EdwardJones MasterCard   \n",
      "180 2023-01-30   200101                             EdwardJones MasterCard   \n",
      "181 2023-01-30   200101                             EdwardJones MasterCard   \n",
      "182 2023-01-31   200101                             EdwardJones MasterCard   \n",
      "183 2023-02-02   200101                             EdwardJones MasterCard   \n",
      "184 2023-02-03   200101                             EdwardJones MasterCard   \n",
      "185 2023-02-03   200101                             EdwardJones MasterCard   \n",
      "186 2023-02-06   200101                             EdwardJones MasterCard   \n",
      "187 2023-02-06   200101                             EdwardJones MasterCard   \n",
      "188 2023-02-06   200101                             EdwardJones MasterCard   \n",
      "189 2023-02-06   200101                             EdwardJones MasterCard   \n",
      "190 2023-02-06   200101                             EdwardJones MasterCard   \n",
      "191 2023-02-06   200101                             EdwardJones MasterCard   \n",
      "192 2023-02-06   200101                             EdwardJones MasterCard   \n",
      "193 2023-02-06   200101                             EdwardJones MasterCard   \n",
      "194 2023-02-08   200101                             EdwardJones MasterCard   \n",
      "195 2023-02-08   200101                             EdwardJones MasterCard   \n",
      "196 2023-02-08   200101                             EdwardJones MasterCard   \n",
      "197 2023-02-08   200101                             EdwardJones MasterCard   \n",
      "198 2023-02-09   200101                             EdwardJones MasterCard   \n",
      "199 2023-02-09   200101                             EdwardJones MasterCard   \n",
      "200 2023-02-09   200101                             EdwardJones MasterCard   \n",
      "201 2023-02-10   200101                             EdwardJones MasterCard   \n",
      "202 2023-02-10   200101                             EdwardJones MasterCard   \n",
      "203 2023-02-13   200101                             EdwardJones MasterCard   \n",
      "204 2023-02-13   200101                             EdwardJones MasterCard   \n",
      "205 2023-02-13   200101                             EdwardJones MasterCard   \n",
      "206 2023-02-13   200101                             EdwardJones MasterCard   \n",
      "207 2023-02-13   200101                             EdwardJones MasterCard   \n",
      "208 2023-02-13   200101                             EdwardJones MasterCard   \n",
      "209 2023-02-13   200101                             EdwardJones MasterCard   \n",
      "210 2023-02-13   200101                             EdwardJones MasterCard   \n",
      "211 2023-02-13   200101                             EdwardJones MasterCard   \n",
      "212 2023-02-13   200101                             EdwardJones MasterCard   \n",
      "213 2023-02-14   200101                             EdwardJones MasterCard   \n",
      "214 2023-02-14   200101                             EdwardJones MasterCard   \n",
      "215 2023-02-15   200101                             EdwardJones MasterCard   \n",
      "216 2023-02-15   200101                             EdwardJones MasterCard   \n",
      "217 2023-02-15   200101                             EdwardJones MasterCard   \n",
      "218 2023-02-15   200101                             EdwardJones MasterCard   \n",
      "219 2023-02-16   200101                             EdwardJones MasterCard   \n",
      "220 2023-02-16   200101                             EdwardJones MasterCard   \n",
      "221 2023-02-16   200101                             EdwardJones MasterCard   \n",
      "222 2023-02-17   200101                             EdwardJones MasterCard   \n",
      "223 2023-02-17   200101                             EdwardJones MasterCard   \n",
      "224 2023-02-17   200101                             EdwardJones MasterCard   \n",
      "225 2023-02-21   200101                             EdwardJones MasterCard   \n",
      "226 2023-02-21   200101                             EdwardJones MasterCard   \n",
      "227 2023-02-21   200101                             EdwardJones MasterCard   \n",
      "228 2023-02-21   200101                             EdwardJones MasterCard   \n",
      "229 2023-02-21   200101                             EdwardJones MasterCard   \n",
      "230 2023-02-21   200101                             EdwardJones MasterCard   \n",
      "231 2023-02-21   200101                             EdwardJones MasterCard   \n",
      "232 2023-02-21   200101                             EdwardJones MasterCard   \n",
      "233 2023-02-21   200101                             EdwardJones MasterCard   \n",
      "234 2023-02-21   200101                             EdwardJones MasterCard   \n",
      "235 2023-02-22   200101                             EdwardJones MasterCard   \n",
      "236 2023-02-23   200101                             EdwardJones MasterCard   \n",
      "237 2023-02-23   200101                             EdwardJones MasterCard   \n",
      "238 2023-02-23   200101                             EdwardJones MasterCard   \n",
      "239 2023-02-23   200101                             EdwardJones MasterCard   \n",
      "240 2023-02-24   200101                             EdwardJones MasterCard   \n",
      "241 2023-02-24   200101                             EdwardJones MasterCard   \n",
      "242 2023-02-27   200101                             EdwardJones MasterCard   \n",
      "243 2023-02-27   200101                             EdwardJones MasterCard   \n",
      "244 2023-02-27   200101                             EdwardJones MasterCard   \n",
      "245 2023-02-27   200101                             EdwardJones MasterCard   \n",
      "246 2023-02-27   200101                             EdwardJones MasterCard   \n",
      "247 2023-02-27   200101                             EdwardJones MasterCard   \n",
      "248 2023-02-27   200101                             EdwardJones MasterCard   \n",
      "249 2023-02-27   200101                             EdwardJones MasterCard   \n",
      "250 2023-02-27   200101                             EdwardJones MasterCard   \n",
      "251 2023-02-02   200101                             EdwardJones MasterCard   \n",
      "252 2023-02-16   200101                             EdwardJones MasterCard   \n",
      "253 2023-02-16   200101                             EdwardJones MasterCard   \n",
      "\n",
      "                                           Description    DEBIT   CREDIT  \n",
      "0    SCHOOLS AND EDUCATIONAL SERVICES (NEC): ALLIAN...   131.70      NaN  \n",
      "1    ELECTRIC, GAS, SANITARY, TELEPHONE OR WATER UT...    89.86      NaN  \n",
      "2    PROFESSIONAL SERVICES (NEC): SQ *PRAIRIE ROSE ...   207.50      NaN  \n",
      "3    MISCELLANEOUS & SPECIALTY STORES: TCGPLAYER.CO...    46.63      NaN  \n",
      "4    MISCELLANEOUS & SPECIALTY STORES: TCGPLAYER.CO...    21.21      NaN  \n",
      "5    AUTOMATED FUEL DISPENSERS: LOVE'S #255 WEBBERS FA    44.26      NaN  \n",
      "6    FAST FOOD RESTAURANTS: SONIC DRIVE IN #1496 ATOKA    11.57      NaN  \n",
      "7    FAST FOOD RESTAURANTS: AMK WALMART DGTC 831-20198     5.79      NaN  \n",
      "8    FAST FOOD RESTAURANTS: AMK WALMART J STREET BE...     1.92      NaN  \n",
      "9              DISCOUNT STORES: MARSHALLS #1195 ROGERS    54.74      NaN  \n",
      "10   AUTOMATED FUEL DISPENSERS: RACETRAC 656 000065...    22.53      NaN  \n",
      "11   GROCERY STORES OR SUPERMARKETS: WAL-MART #0001...   198.31      NaN  \n",
      "12   FAST FOOD RESTAURANTS: AMK WALMART J STREET 83...     9.84      NaN  \n",
      "13   FAST FOOD RESTAURANTS: AMK WALMART J STREET BE...     1.92      NaN  \n",
      "14   GROCERY STORES OR SUPERMARKETS: WAL-MART #0001...    36.92      NaN  \n",
      "15   FAST FOOD RESTAURANTS: AMK WALMART J STREET 83...     5.79      NaN  \n",
      "16   FAST FOOD RESTAURANTS: AMK WALMART J STREET BE...     1.92      NaN  \n",
      "17    FAST FOOD RESTAURANTS: CHICK-FIL-A #03901 ROGERS    10.13      NaN  \n",
      "18   DISCOUNT STORES: WALMART.COM 8009666546 800-966-6   104.26      NaN  \n",
      "19    FAST FOOD RESTAURANTS: CHICK-FIL-A #03901 ROGERS    10.63      NaN  \n",
      "20    FAST FOOD RESTAURANTS: CHICK-FIL-A #03901 ROGERS    10.24      NaN  \n",
      "21     FAST FOOD RESTAURANTS: MCDONALD'S F32861 ROGERS    10.71      NaN  \n",
      "22   FAST FOOD RESTAURANTS: TACOS 4 LIFE 007 ONLIN ...    11.10      NaN  \n",
      "23   GROCERY STORES OR SUPERMARKETS: WAL-MART #5260...    27.54      NaN  \n",
      "24   GROCERY STORES OR SUPERMARKETS: WAL-MART #5837...    56.49      NaN  \n",
      "25   FAST FOOD RESTAURANTS: AMK WALMART J STREET 83...     5.79      NaN  \n",
      "26   FAST FOOD RESTAURANTS: AMK WALMART J STREET BE...     1.92      NaN  \n",
      "27    FAST FOOD RESTAURANTS: CHICK-FIL-A #03901 ROGERS    10.39      NaN  \n",
      "28   FAST FOOD RESTAURANTS: AMK WALMART J STREET 83...     9.84      NaN  \n",
      "29    FAST FOOD RESTAURANTS: CHICK-FIL-A #03901 ROGERS    14.78      NaN  \n",
      "30   GOVERNMENT SERVICES (NEC) OR FIRE DEPARTMENTS:...   203.14      NaN  \n",
      "31   FAST FOOD RESTAURANTS: FIREHOUSE SUBS 0398 QS ...     4.18      NaN  \n",
      "32   RESTAURANTS OR EATING PLACES: MIRABELLAS TABLE...    37.73      NaN  \n",
      "33   COMPUTER SOFTWARE STORES: ARKANSASLIVESCAN.COM...    20.00      NaN  \n",
      "34    FAST FOOD RESTAURANTS: CHICK-FIL-A #03901 ROGERS    14.78      NaN  \n",
      "35    FAST FOOD RESTAURANTS: CHICK-FIL-A #03901 ROGERS    15.48      NaN  \n",
      "36   FAST FOOD RESTAURANTS: PANDA EXPRESS #2171 P 8...    12.15      NaN  \n",
      "37   FAST FOOD RESTAURANTS: TACOS 4 LIFE 007 ONLIN ...    12.24      NaN  \n",
      "38   GROCERY STORES OR SUPERMARKETS: WAL-MART #5837...    74.48      NaN  \n",
      "39      FAST FOOD RESTAURANTS: WHATABURGER 1089 ROGERS    11.37      NaN  \n",
      "40   FAST FOOD RESTAURANTS: AMK WALMART J STREET 83...    10.81      NaN  \n",
      "41   FAST FOOD RESTAURANTS: AMK WALMART J STREET BE...     1.92      NaN  \n",
      "42   CABLE AND OTHER PAY TELEVISION SERVICES: ATT*B...    65.95      NaN  \n",
      "43    AUTOMATED FUEL DISPENSERS: WAL-MART #5837 ROGERS    66.16      NaN  \n",
      "44    FAST FOOD RESTAURANTS: CHICK-FIL-A #03901 ROGERS    10.39      NaN  \n",
      "45   FAST FOOD RESTAURANTS: AMK WALMART J STREET 83...     9.40      NaN  \n",
      "46   FAST FOOD RESTAURANTS: AMK WALMART J STREET BE...     1.92      NaN  \n",
      "47    FAST FOOD RESTAURANTS: CHICK-FIL-A #03901 ROGERS    14.78      NaN  \n",
      "48   GROCERY STORES OR SUPERMARKETS: WAL-MART #5260...    10.95      NaN  \n",
      "49    FAST FOOD RESTAURANTS: CHICK-FIL-A #03901 ROGERS    10.39      NaN  \n",
      "50    FAST FOOD RESTAURANTS: CHICK-FIL-A #03901 ROGERS     9.30      NaN  \n",
      "51   MISCELLANEOUS & SPECIALTY STORES: TCGPLAYER.CO...    73.75      NaN  \n",
      "52   RESTAURANTS OR EATING PLACES: WALK ONS BISTREA...    17.00      NaN  \n",
      "53      FAST FOOD RESTAURANTS: WHATABURGER 1089 ROGERS    11.38      NaN  \n",
      "54   GROCERY STORES OR SUPERMARKETS: WM SUPERCENTER...    34.94      NaN  \n",
      "55      DIGITAL GOODS: GAMES: STEAM PURCHASE 425-95229     3.24      NaN  \n",
      "56                PAYMENT THANK YOU: PAYMENT THANK YOU      NaN  1934.06  \n",
      "57   GROCERY STORES OR SUPERMARKETS: WAL-MART #5837...    26.34      NaN  \n",
      "58   SCHOOLS AND EDUCATIONAL SERVICES (NEC): ALLIAN...   131.70      NaN  \n",
      "59    FAST FOOD RESTAURANTS: CHICK-FIL-A #03901 ROGERS    14.94      NaN  \n",
      "60   FAST FOOD RESTAURANTS: AMK WALMART J STREET 83...     5.79      NaN  \n",
      "61   FAST FOOD RESTAURANTS: AMK WALMART J STREET BE...     1.92      NaN  \n",
      "62    FAST FOOD RESTAURANTS: CHICK-FIL-A #03901 ROGERS    14.94      NaN  \n",
      "63    FAST FOOD RESTAURANTS: CHIPOTLE ONLINE 949524400    22.85      NaN  \n",
      "64   ELECTRIC, GAS, SANITARY, TELEPHONE OR WATER UT...    95.98      NaN  \n",
      "65   FAST FOOD RESTAURANTS: PANERA BREAD #606200 O ...    33.83      NaN  \n",
      "66   GROCERY STORES OR SUPERMARKETS: WAL-MART #5837...   126.47      NaN  \n",
      "67   GROCERY STORES OR SUPERMARKETS: WM SUPERCENTER...    11.80      NaN  \n",
      "68   FAST FOOD RESTAURANTS: AMK WALMART J STREET BE...     1.92      NaN  \n",
      "69   FAST FOOD RESTAURANTS: AMK WALMART J STREET BE...     5.79      NaN  \n",
      "70    FAST FOOD RESTAURANTS: CHICK-FIL-A #03901 ROGERS    10.76      NaN  \n",
      "71   MISCELLANEOUS & SPECIALTY STORES: TCGPLAYER.CO...     7.87      NaN  \n",
      "72   FAST FOOD RESTAURANTS: AMK WALMART J STREET BE...     5.79      NaN  \n",
      "73    FAST FOOD RESTAURANTS: CHICK-FIL-A #03901 ROGERS     7.76      NaN  \n",
      "74    AUTOMATED FUEL DISPENSERS: WAL-MART #5837 ROGERS    36.06      NaN  \n",
      "75   FAST FOOD RESTAURANTS: AMK WALMART J STREET 83...     8.64      NaN  \n",
      "76   FAST FOOD RESTAURANTS: AMK WALMART J STREET BE...     1.92      NaN  \n",
      "77   SCHOOLS AND EDUCATIONAL SERVICES (NEC): ALLIAN...   136.03      NaN  \n",
      "78    FAST FOOD RESTAURANTS: CHICK-FIL-A #03901 ROGERS    15.75      NaN  \n",
      "79    FAST FOOD RESTAURANTS: CHICK-FIL-A #03901 ROGERS    14.02      NaN  \n",
      "80   LARGE DIGITAL GOODS MERCHANT: PlaystationNetwo...    10.80      NaN  \n",
      "81   MISCELLANEOUS & SPECIALTY STORES: TCGPLAYER.CO...    21.96      NaN  \n",
      "82   MISCELLANEOUS & SPECIALTY STORES: TCGPLAYER.CO...    17.96      NaN  \n",
      "83   MISCELLANEOUS & SPECIALTY STORES: TCGPLAYER.CO...     8.11      NaN  \n",
      "84   MEN'S AND WOMEN'S CLOTHING STORES: THECALIEFFE...    44.31      NaN  \n",
      "85   GROCERY STORES OR SUPERMARKETS: WAL-MART #0359...    75.73      NaN  \n",
      "86   FAST FOOD RESTAURANTS: WHATABURGER 1100 FAYETTEVI    11.61      NaN  \n",
      "87   COMPUTER PROGRAMMING, SYSTEMS DESIGN OR DATA P...    11.50      NaN  \n",
      "88   MISCELLANEOUS & SPECIALTY STORES: TCGPLAYER.CO...     9.23      NaN  \n",
      "89   FAST FOOD RESTAURANTS: AMK WALMART J STREET 83...     9.84      NaN  \n",
      "90   RESTAURANTS OR EATING PLACES: BIG WHISKEYS BEN...    19.00      NaN  \n",
      "91       BOWLING ALLEYS: FAST LANE ENTERTAINMEN LOWELL     4.42      NaN  \n",
      "92   GROCERY STORES OR SUPERMARKETS: WM SUPERCENTER...    41.51      NaN  \n",
      "93   FAST FOOD RESTAURANTS: AMK WALMART J STREET BE...     5.79      NaN  \n",
      "94   HOBBY, TOY OR GAMES STORES: GAMEXCHANGE ROGERS...     7.64      NaN  \n",
      "95   MISCELLANEOUS & SPECIALTY STORES: TCGPLAYER.CO...      NaN     6.50  \n",
      "96   MISCELLANEOUS & SPECIALTY STORES: TCGPLAYER.CO...      NaN     2.73  \n",
      "97    AUTOMATED FUEL DISPENSERS: WAL-MART #5837 ROGERS    59.24      NaN  \n",
      "98    FAST FOOD RESTAURANTS: CHICK-FIL-A #03901 ROGERS    16.18      NaN  \n",
      "99   AUTOMATED FUEL DISPENSERS: EZ MART 4308 FAYETTEVI    10.12      NaN  \n",
      "100  HOBBY, TOY OR GAMES STORES: GAME X CHANGE - BE...     7.65      NaN  \n",
      "101  FAST FOOD RESTAURANTS: AMK WALMART J STREET BE...     5.79      NaN  \n",
      "102  RESTAURANTS OR EATING PLACES: C.B. MUSEUM CULI...    17.79      NaN  \n",
      "103   FAST FOOD RESTAURANTS: CHICK-FIL-A #03901 ROGERS    10.94      NaN  \n",
      "104  HOBBY, TOY OR GAMES STORES: GEAR GAMING BENTON...     7.65      NaN  \n",
      "105  RESTAURANTS OR EATING PLACES: LOCAL LIME ROGER...    33.00      NaN  \n",
      "106  FAST FOOD RESTAURANTS: PANDA EXPRESS #2171 P 8...    12.15      NaN  \n",
      "107  MISCELLANEOUS & SPECIALTY STORES: TCGPLAYER.CO...    62.12      NaN  \n",
      "108  MISCELLANEOUS & SPECIALTY STORES: TCGPLAYER.CO...    11.00      NaN  \n",
      "109  MISCELLANEOUS & SPECIALTY STORES: TCGPLAYER.CO...    14.12      NaN  \n",
      "110  RESTAURANTS OR EATING PLACES: WOOD STONE CRAFT...    35.00      NaN  \n",
      "111  FAST FOOD RESTAURANTS: AMK WALMART J STREET 83...    10.59      NaN  \n",
      "112   FAST FOOD RESTAURANTS: CHICK-FIL-A #03901 ROGERS    16.62      NaN  \n",
      "113  FAST FOOD RESTAURANTS: FUZZYS TACO SHOP - ROG ...    11.00      NaN  \n",
      "114  FAST FOOD RESTAURANTS: PANERA BREAD #606200 O ...    23.21      NaN  \n",
      "115  GROCERY STORES OR SUPERMARKETS: WAL-MART #5837...   129.71      NaN  \n",
      "116  FAST FOOD RESTAURANTS: AMK WALMART J STREET 83...    10.59      NaN  \n",
      "117  CABLE AND OTHER PAY TELEVISION SERVICES: ATT*B...    65.95      NaN  \n",
      "118  FAST FOOD RESTAURANTS: AMK WALMART J STREET BE...    10.59      NaN  \n",
      "119   FAST FOOD RESTAURANTS: CHICK-FIL-A #03901 ROGERS    10.76      NaN  \n",
      "120  GAS/SERVICE STATIONS WITH/WITHOUT ANCILLARY SE...     3.50      NaN  \n",
      "121  MISCELLANEOUS & SPECIALTY STORES: TCGPLAYER.CO...    37.09      NaN  \n",
      "122  MISCELLANEOUS & SPECIALTY STORES: TCGPLAYER.CO...     7.65      NaN  \n",
      "123  GROCERY STORES OR SUPERMARKETS: WAL-MART #5260...    44.26      NaN  \n",
      "124  GROCERY STORES OR SUPERMARKETS: WAL-MART #5260...    27.54      NaN  \n",
      "125     FAST FOOD RESTAURANTS: WHATABURGER 1089 ROGERS    11.82      NaN  \n",
      "126  GROCERY STORES OR SUPERMARKETS: WM SUPERCENTER...    10.02      NaN  \n",
      "127  SCHOOLS AND EDUCATIONAL SERVICES (NEC): ALLIAN...      NaN   131.70  \n",
      "128  ELECTRIC, GAS, SANITARY, TELEPHONE OR WATER UT...      NaN    89.86  \n",
      "129  PROFESSIONAL SERVICES (NEC): SQ *PRAIRIE ROSE ...      NaN   207.50  \n",
      "130  MISCELLANEOUS & SPECIALTY STORES: TCGPLAYER.CO...      NaN    46.63  \n",
      "131  MISCELLANEOUS & SPECIALTY STORES: TCGPLAYER.CO...      NaN    21.21  \n",
      "132  AUTOMATED FUEL DISPENSERS: LOVE'S #255 WEBBERS FA      NaN    44.26  \n",
      "133  FAST FOOD RESTAURANTS: SONIC DRIVE IN #1496 ATOKA      NaN    11.57  \n",
      "134  FAST FOOD RESTAURANTS: AMK WALMART DGTC 831-20198      NaN     5.79  \n",
      "135  FAST FOOD RESTAURANTS: AMK WALMART J STREET BE...      NaN     1.92  \n",
      "136            DISCOUNT STORES: MARSHALLS #1195 ROGERS      NaN    54.74  \n",
      "137  AUTOMATED FUEL DISPENSERS: RACETRAC 656 000065...      NaN    22.53  \n",
      "138  GROCERY STORES OR SUPERMARKETS: WAL-MART #0001...      NaN   198.31  \n",
      "139  FAST FOOD RESTAURANTS: AMK WALMART J STREET 83...      NaN     9.84  \n",
      "140  FAST FOOD RESTAURANTS: AMK WALMART J STREET BE...      NaN     1.92  \n",
      "141  GROCERY STORES OR SUPERMARKETS: WAL-MART #0001...      NaN    36.92  \n",
      "142  FAST FOOD RESTAURANTS: AMK WALMART J STREET 83...      NaN     5.79  \n",
      "143  FAST FOOD RESTAURANTS: AMK WALMART J STREET BE...      NaN     1.92  \n",
      "144   FAST FOOD RESTAURANTS: CHICK-FIL-A #03901 ROGERS      NaN    10.13  \n",
      "145  DISCOUNT STORES: WALMART.COM 8009666546 800-966-6      NaN   104.26  \n",
      "146   FAST FOOD RESTAURANTS: CHICK-FIL-A #03901 ROGERS      NaN    10.63  \n",
      "147   FAST FOOD RESTAURANTS: CHICK-FIL-A #03901 ROGERS      NaN    10.24  \n",
      "148    FAST FOOD RESTAURANTS: MCDONALD'S F32861 ROGERS      NaN    10.71  \n",
      "149  FAST FOOD RESTAURANTS: TACOS 4 LIFE 007 ONLIN ...      NaN    11.10  \n",
      "150  GROCERY STORES OR SUPERMARKETS: WAL-MART #5260...      NaN    27.54  \n",
      "151  GROCERY STORES OR SUPERMARKETS: WAL-MART #5837...      NaN    56.49  \n",
      "152  FAST FOOD RESTAURANTS: AMK WALMART J STREET 83...      NaN     5.79  \n",
      "153  FAST FOOD RESTAURANTS: AMK WALMART J STREET BE...      NaN     1.92  \n",
      "154   FAST FOOD RESTAURANTS: CHICK-FIL-A #03901 ROGERS      NaN    10.39  \n",
      "155  FAST FOOD RESTAURANTS: AMK WALMART J STREET 83...      NaN     9.84  \n",
      "156   FAST FOOD RESTAURANTS: CHICK-FIL-A #03901 ROGERS      NaN    14.78  \n",
      "157  GOVERNMENT SERVICES (NEC) OR FIRE DEPARTMENTS:...      NaN   203.14  \n",
      "158  FAST FOOD RESTAURANTS: FIREHOUSE SUBS 0398 QS ...      NaN     4.18  \n",
      "159  RESTAURANTS OR EATING PLACES: MIRABELLAS TABLE...      NaN    37.73  \n",
      "160  COMPUTER SOFTWARE STORES: ARKANSASLIVESCAN.COM...      NaN    20.00  \n",
      "161   FAST FOOD RESTAURANTS: CHICK-FIL-A #03901 ROGERS      NaN    14.78  \n",
      "162   FAST FOOD RESTAURANTS: CHICK-FIL-A #03901 ROGERS      NaN    15.48  \n",
      "163  FAST FOOD RESTAURANTS: PANDA EXPRESS #2171 P 8...      NaN    12.15  \n",
      "164  FAST FOOD RESTAURANTS: TACOS 4 LIFE 007 ONLIN ...      NaN    12.24  \n",
      "165  GROCERY STORES OR SUPERMARKETS: WAL-MART #5837...      NaN    74.48  \n",
      "166     FAST FOOD RESTAURANTS: WHATABURGER 1089 ROGERS      NaN    11.37  \n",
      "167  FAST FOOD RESTAURANTS: AMK WALMART J STREET 83...      NaN    10.81  \n",
      "168  FAST FOOD RESTAURANTS: AMK WALMART J STREET BE...      NaN     1.92  \n",
      "169  CABLE AND OTHER PAY TELEVISION SERVICES: ATT*B...      NaN    65.95  \n",
      "170   AUTOMATED FUEL DISPENSERS: WAL-MART #5837 ROGERS      NaN    66.16  \n",
      "171   FAST FOOD RESTAURANTS: CHICK-FIL-A #03901 ROGERS      NaN    10.39  \n",
      "172  FAST FOOD RESTAURANTS: AMK WALMART J STREET 83...      NaN     9.40  \n",
      "173  FAST FOOD RESTAURANTS: AMK WALMART J STREET BE...      NaN     1.92  \n",
      "174   FAST FOOD RESTAURANTS: CHICK-FIL-A #03901 ROGERS      NaN    14.78  \n",
      "175  GROCERY STORES OR SUPERMARKETS: WAL-MART #5260...      NaN    10.95  \n",
      "176   FAST FOOD RESTAURANTS: CHICK-FIL-A #03901 ROGERS      NaN    10.39  \n",
      "177   FAST FOOD RESTAURANTS: CHICK-FIL-A #03901 ROGERS      NaN     9.30  \n",
      "178  MISCELLANEOUS & SPECIALTY STORES: TCGPLAYER.CO...      NaN    73.75  \n",
      "179  RESTAURANTS OR EATING PLACES: WALK ONS BISTREA...      NaN    17.00  \n",
      "180     FAST FOOD RESTAURANTS: WHATABURGER 1089 ROGERS      NaN    11.38  \n",
      "181  GROCERY STORES OR SUPERMARKETS: WM SUPERCENTER...      NaN    34.94  \n",
      "182     DIGITAL GOODS: GAMES: STEAM PURCHASE 425-95229      NaN     3.24  \n",
      "183  GROCERY STORES OR SUPERMARKETS: WAL-MART #5837...      NaN    26.34  \n",
      "184  SCHOOLS AND EDUCATIONAL SERVICES (NEC): ALLIAN...      NaN   131.70  \n",
      "185   FAST FOOD RESTAURANTS: CHICK-FIL-A #03901 ROGERS      NaN    14.94  \n",
      "186  FAST FOOD RESTAURANTS: AMK WALMART J STREET 83...      NaN     5.79  \n",
      "187  FAST FOOD RESTAURANTS: AMK WALMART J STREET BE...      NaN     1.92  \n",
      "188   FAST FOOD RESTAURANTS: CHICK-FIL-A #03901 ROGERS      NaN    14.94  \n",
      "189   FAST FOOD RESTAURANTS: CHIPOTLE ONLINE 949524400      NaN    22.85  \n",
      "190  ELECTRIC, GAS, SANITARY, TELEPHONE OR WATER UT...      NaN    95.98  \n",
      "191  FAST FOOD RESTAURANTS: PANERA BREAD #606200 O ...      NaN    33.83  \n",
      "192  GROCERY STORES OR SUPERMARKETS: WAL-MART #5837...      NaN   126.47  \n",
      "193  GROCERY STORES OR SUPERMARKETS: WM SUPERCENTER...      NaN    11.80  \n",
      "194  FAST FOOD RESTAURANTS: AMK WALMART J STREET BE...      NaN     1.92  \n",
      "195  FAST FOOD RESTAURANTS: AMK WALMART J STREET BE...      NaN     5.79  \n",
      "196   FAST FOOD RESTAURANTS: CHICK-FIL-A #03901 ROGERS      NaN    10.76  \n",
      "197  MISCELLANEOUS & SPECIALTY STORES: TCGPLAYER.CO...      NaN     7.87  \n",
      "198  FAST FOOD RESTAURANTS: AMK WALMART J STREET BE...      NaN     5.79  \n",
      "199   FAST FOOD RESTAURANTS: CHICK-FIL-A #03901 ROGERS      NaN     7.76  \n",
      "200   AUTOMATED FUEL DISPENSERS: WAL-MART #5837 ROGERS      NaN    36.06  \n",
      "201  FAST FOOD RESTAURANTS: AMK WALMART J STREET 83...      NaN     8.64  \n",
      "202  FAST FOOD RESTAURANTS: AMK WALMART J STREET BE...      NaN     1.92  \n",
      "203  SCHOOLS AND EDUCATIONAL SERVICES (NEC): ALLIAN...      NaN   136.03  \n",
      "204   FAST FOOD RESTAURANTS: CHICK-FIL-A #03901 ROGERS      NaN    15.75  \n",
      "205   FAST FOOD RESTAURANTS: CHICK-FIL-A #03901 ROGERS      NaN    14.02  \n",
      "206  LARGE DIGITAL GOODS MERCHANT: PlaystationNetwo...      NaN    10.80  \n",
      "207  MISCELLANEOUS & SPECIALTY STORES: TCGPLAYER.CO...      NaN    21.96  \n",
      "208  MISCELLANEOUS & SPECIALTY STORES: TCGPLAYER.CO...      NaN    17.96  \n",
      "209  MISCELLANEOUS & SPECIALTY STORES: TCGPLAYER.CO...      NaN     8.11  \n",
      "210  MEN'S AND WOMEN'S CLOTHING STORES: THECALIEFFE...      NaN    44.31  \n",
      "211  GROCERY STORES OR SUPERMARKETS: WAL-MART #0359...      NaN    75.73  \n",
      "212  FAST FOOD RESTAURANTS: WHATABURGER 1100 FAYETTEVI      NaN    11.61  \n",
      "213  COMPUTER PROGRAMMING, SYSTEMS DESIGN OR DATA P...      NaN    11.50  \n",
      "214  MISCELLANEOUS & SPECIALTY STORES: TCGPLAYER.CO...      NaN     9.23  \n",
      "215  FAST FOOD RESTAURANTS: AMK WALMART J STREET 83...      NaN     9.84  \n",
      "216  RESTAURANTS OR EATING PLACES: BIG WHISKEYS BEN...      NaN    19.00  \n",
      "217      BOWLING ALLEYS: FAST LANE ENTERTAINMEN LOWELL      NaN     4.42  \n",
      "218  GROCERY STORES OR SUPERMARKETS: WM SUPERCENTER...      NaN    41.51  \n",
      "219  FAST FOOD RESTAURANTS: AMK WALMART J STREET BE...      NaN     5.79  \n",
      "220  HOBBY, TOY OR GAMES STORES: GAMEXCHANGE ROGERS...      NaN     7.64  \n",
      "221   AUTOMATED FUEL DISPENSERS: WAL-MART #5837 ROGERS      NaN    59.24  \n",
      "222   FAST FOOD RESTAURANTS: CHICK-FIL-A #03901 ROGERS      NaN    16.18  \n",
      "223  AUTOMATED FUEL DISPENSERS: EZ MART 4308 FAYETTEVI      NaN    10.12  \n",
      "224  HOBBY, TOY OR GAMES STORES: GAME X CHANGE - BE...      NaN     7.65  \n",
      "225  FAST FOOD RESTAURANTS: AMK WALMART J STREET BE...      NaN     5.79  \n",
      "226  RESTAURANTS OR EATING PLACES: C.B. MUSEUM CULI...      NaN    17.79  \n",
      "227   FAST FOOD RESTAURANTS: CHICK-FIL-A #03901 ROGERS      NaN    10.94  \n",
      "228  HOBBY, TOY OR GAMES STORES: GEAR GAMING BENTON...      NaN     7.65  \n",
      "229  RESTAURANTS OR EATING PLACES: LOCAL LIME ROGER...      NaN    33.00  \n",
      "230  FAST FOOD RESTAURANTS: PANDA EXPRESS #2171 P 8...      NaN    12.15  \n",
      "231  MISCELLANEOUS & SPECIALTY STORES: TCGPLAYER.CO...      NaN    62.12  \n",
      "232  MISCELLANEOUS & SPECIALTY STORES: TCGPLAYER.CO...      NaN    11.00  \n",
      "233  MISCELLANEOUS & SPECIALTY STORES: TCGPLAYER.CO...      NaN    14.12  \n",
      "234  RESTAURANTS OR EATING PLACES: WOOD STONE CRAFT...      NaN    35.00  \n",
      "235  FAST FOOD RESTAURANTS: AMK WALMART J STREET 83...      NaN    10.59  \n",
      "236   FAST FOOD RESTAURANTS: CHICK-FIL-A #03901 ROGERS      NaN    16.62  \n",
      "237  FAST FOOD RESTAURANTS: FUZZYS TACO SHOP - ROG ...      NaN    11.00  \n",
      "238  FAST FOOD RESTAURANTS: PANERA BREAD #606200 O ...      NaN    23.21  \n",
      "239  GROCERY STORES OR SUPERMARKETS: WAL-MART #5837...      NaN   129.71  \n",
      "240  FAST FOOD RESTAURANTS: AMK WALMART J STREET 83...      NaN    10.59  \n",
      "241  CABLE AND OTHER PAY TELEVISION SERVICES: ATT*B...      NaN    65.95  \n",
      "242  FAST FOOD RESTAURANTS: AMK WALMART J STREET BE...      NaN    10.59  \n",
      "243   FAST FOOD RESTAURANTS: CHICK-FIL-A #03901 ROGERS      NaN    10.76  \n",
      "244  GAS/SERVICE STATIONS WITH/WITHOUT ANCILLARY SE...      NaN     3.50  \n",
      "245  MISCELLANEOUS & SPECIALTY STORES: TCGPLAYER.CO...      NaN    37.09  \n",
      "246  MISCELLANEOUS & SPECIALTY STORES: TCGPLAYER.CO...      NaN     7.65  \n",
      "247  GROCERY STORES OR SUPERMARKETS: WAL-MART #5260...      NaN    44.26  \n",
      "248  GROCERY STORES OR SUPERMARKETS: WAL-MART #5260...      NaN    27.54  \n",
      "249     FAST FOOD RESTAURANTS: WHATABURGER 1089 ROGERS      NaN    11.82  \n",
      "250  GROCERY STORES OR SUPERMARKETS: WM SUPERCENTER...      NaN    10.02  \n",
      "251               PAYMENT THANK YOU: PAYMENT THANK YOU  1934.06      NaN  \n",
      "252  MISCELLANEOUS & SPECIALTY STORES: TCGPLAYER.CO...     6.50      NaN  \n",
      "253  MISCELLANEOUS & SPECIALTY STORES: TCGPLAYER.CO...     2.73      NaN  \n"
     ]
    }
   ],
   "source": [
    "if debit_credit_check(creditcard_df) == True:\n",
    "    print(\"Debits equal credits. Proceed to next phase\")\n",
    "    print(creditcard_df)\n",
    "else:\n",
    "    print(\"Something went wrong\")"
   ]
  }
 ],
 "metadata": {
  "kernelspec": {
   "display_name": "venv_mac",
   "language": "python",
   "name": "python3"
  },
  "language_info": {
   "codemirror_mode": {
    "name": "ipython",
    "version": 3
   },
   "file_extension": ".py",
   "mimetype": "text/x-python",
   "name": "python",
   "nbconvert_exporter": "python",
   "pygments_lexer": "ipython3",
   "version": "3.10.10"
  },
  "orig_nbformat": 4
 },
 "nbformat": 4,
 "nbformat_minor": 2
}
