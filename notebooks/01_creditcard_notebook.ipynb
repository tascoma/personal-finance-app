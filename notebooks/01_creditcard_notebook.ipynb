{
 "cells": [
  {
   "attachments": {},
   "cell_type": "markdown",
   "metadata": {},
   "source": [
    "## Imports"
   ]
  },
  {
   "cell_type": "code",
   "execution_count": 1,
   "metadata": {},
   "outputs": [],
   "source": [
    "import pandas as pd\n",
    "import numpy as np\n",
    "import configparser\n",
    "import os\n",
    "import sys"
   ]
  },
  {
   "cell_type": "code",
   "execution_count": 2,
   "metadata": {},
   "outputs": [],
   "source": [
    "cwd = os.getcwd()"
   ]
  },
  {
   "cell_type": "code",
   "execution_count": 3,
   "metadata": {},
   "outputs": [],
   "source": [
    "module_path = os.path.join(cwd, '..')\n",
    "if module_path not in sys.path:\n",
    "    sys.path.append(module_path)"
   ]
  },
  {
   "cell_type": "code",
   "execution_count": 4,
   "metadata": {},
   "outputs": [],
   "source": [
    "import financialstatements"
   ]
  },
  {
   "cell_type": "markdown",
   "metadata": {},
   "source": [
    "## Config"
   ]
  },
  {
   "cell_type": "code",
   "execution_count": 5,
   "metadata": {},
   "outputs": [
    {
     "data": {
      "text/plain": [
       "['c:\\\\Users\\\\Tony\\\\OneDrive\\\\Python\\\\Projects\\\\financialstatements\\\\financialstatements\\\\notebooks\\\\../docs/config.ini']"
      ]
     },
     "execution_count": 5,
     "metadata": {},
     "output_type": "execute_result"
    }
   ],
   "source": [
    "#Creating configuration\n",
    "config_path = os.path.join(cwd, '../docs/config.ini')\n",
    "config = configparser.ConfigParser()\n",
    "config.read(config_path)"
   ]
  },
  {
   "attachments": {},
   "cell_type": "markdown",
   "metadata": {},
   "source": [
    "## Credit Card Functions"
   ]
  },
  {
   "cell_type": "code",
   "execution_count": 6,
   "metadata": {},
   "outputs": [],
   "source": [
    "def joining_gl_codes(df, coa_mcc_df):\n",
    "    df['Amount'] = df['Amount'].abs()\n",
    "    df = df.pivot_table(index = ['Date', 'Name', 'Memo'], columns='Transaction', values='Amount')\n",
    "    df = df.reset_index()\n",
    "    df[['Memo', 'MCC', 'Blank']] = df['Memo'].str.split(';', expand=True)\n",
    "    df['MCC'] = df['MCC'].str[-4:]\n",
    "    df['MCC'] = df['MCC'].astype('int')\n",
    "    df = pd.merge(df, \n",
    "              coa_mcc_df, \n",
    "              how='left',\n",
    "              on='MCC')\n",
    "    return df"
   ]
  },
  {
   "cell_type": "code",
   "execution_count": 7,
   "metadata": {},
   "outputs": [],
   "source": [
    "def processing_df(df):\n",
    "    df['Date'] = pd.to_datetime(df['Date'])\n",
    "    df['Description'] = df['MCC_Description'] + ': ' + df['Name']\n",
    "    df = df[['Date', 'GL_Code', 'Account', 'Description','DEBIT', 'CREDIT']]\n",
    "    df = df.round(2)\n",
    "    df = df.sort_values(by='Date').reset_index(drop=True)\n",
    "    df['Order_Col'] = df.index + 1\n",
    "    df['Sub_Order_Col'] = np.where(df['DEBIT'].isnull(), 2, 1)\n",
    "    return df"
   ]
  },
  {
   "cell_type": "code",
   "execution_count": 8,
   "metadata": {},
   "outputs": [],
   "source": [
    "def creating_credit_entries(df):\n",
    "    df = df[df['CREDIT'].isnull()].reset_index(drop=True).copy()\n",
    "    df['GL_Code'] = 200101\n",
    "    df['Account'] = 'EdwardJones MasterCard'\n",
    "    df['Sub_Order_Col'] = 2\n",
    "    df = df.rename(columns={'DEBIT':'CREDIT', 'CREDIT': 'DEBIT'})\n",
    "    return df[['Date', 'GL_Code', 'Account', 'Description','DEBIT','CREDIT','Order_Col', 'Sub_Order_Col']]"
   ]
  },
  {
   "cell_type": "code",
   "execution_count": 9,
   "metadata": {},
   "outputs": [],
   "source": [
    "def creating_debit_entries(df):\n",
    "    df = df[df['DEBIT'].isnull()].reset_index(drop=True).copy()\n",
    "    df['GL_Code'] = 200101\n",
    "    df['Account'] = 'EdwardJones MasterCard'\n",
    "    df['Sub_Order_Col'] = 1\n",
    "    df = df.rename(columns={'DEBIT':'CREDIT', 'CREDIT': 'DEBIT'})\n",
    "    return df[['Date', 'GL_Code', 'Account', 'Description','DEBIT','CREDIT','Order_Col','Sub_Order_Col']]"
   ]
  },
  {
   "attachments": {},
   "cell_type": "markdown",
   "metadata": {},
   "source": [
    "## Reading Data"
   ]
  },
  {
   "attachments": {},
   "cell_type": "markdown",
   "metadata": {},
   "source": [
    "### Credit Card Data"
   ]
  },
  {
   "cell_type": "code",
   "execution_count": 10,
   "metadata": {},
   "outputs": [],
   "source": [
    "# Creating directory to credit card data\n",
    "CREDITCARD_DIRECTORY = os.path.join(cwd,config.get(\"data_inputs_directory\", \"CREDITCARD_DIRECTORY\"))"
   ]
  },
  {
   "cell_type": "code",
   "execution_count": 11,
   "metadata": {},
   "outputs": [],
   "source": [
    "paths = financialstatements.creating_input_paths(CREDITCARD_DIRECTORY)"
   ]
  },
  {
   "cell_type": "code",
   "execution_count": 12,
   "metadata": {},
   "outputs": [],
   "source": [
    "df = financialstatements.creating_df(paths)"
   ]
  },
  {
   "attachments": {},
   "cell_type": "markdown",
   "metadata": {},
   "source": [
    "### Table Data"
   ]
  },
  {
   "cell_type": "code",
   "execution_count": 13,
   "metadata": {},
   "outputs": [],
   "source": [
    "COA_DATA = config.get('table_files', 'COA_DATA')\n",
    "MONTH_DATA = config.get('table_files', 'MONTH_DATA')"
   ]
  },
  {
   "cell_type": "code",
   "execution_count": 14,
   "metadata": {},
   "outputs": [],
   "source": [
    "coa_mcc_df = pd.read_excel(COA_DATA, sheet_name='coa_mcc_link_table')"
   ]
  },
  {
   "cell_type": "code",
   "execution_count": 15,
   "metadata": {},
   "outputs": [],
   "source": [
    "month_df = pd.read_excel(MONTH_DATA)"
   ]
  },
  {
   "attachments": {},
   "cell_type": "markdown",
   "metadata": {},
   "source": [
    "## ETL"
   ]
  },
  {
   "cell_type": "code",
   "execution_count": 16,
   "metadata": {},
   "outputs": [],
   "source": [
    "df = joining_gl_codes(df, coa_mcc_df)"
   ]
  },
  {
   "cell_type": "code",
   "execution_count": 17,
   "metadata": {},
   "outputs": [
    {
     "name": "stdout",
     "output_type": "stream",
     "text": [
      "No GL_Codes missing\n"
     ]
    }
   ],
   "source": [
    "# Logic gate for checking nulls in the GL_Code column\n",
    "if financialstatements.missing_gl_check(df) != 0:\n",
    "    print(\"GL_Codes are missing, need to update the coa and mcc link table\")\n",
    "    financialstatements.missing_mcc(df)\n",
    "else:\n",
    "    print(\"No GL_Codes missing\")"
   ]
  },
  {
   "cell_type": "code",
   "execution_count": 18,
   "metadata": {},
   "outputs": [],
   "source": [
    "df = processing_df(df)"
   ]
  },
  {
   "cell_type": "code",
   "execution_count": 19,
   "metadata": {},
   "outputs": [],
   "source": [
    "credit_entries_df = creating_credit_entries(df)"
   ]
  },
  {
   "cell_type": "code",
   "execution_count": 20,
   "metadata": {},
   "outputs": [],
   "source": [
    "debit_entries_df = creating_debit_entries(df)"
   ]
  },
  {
   "cell_type": "code",
   "execution_count": 21,
   "metadata": {},
   "outputs": [],
   "source": [
    "df = pd.concat([df, credit_entries_df, debit_entries_df]).reset_index(drop=True)"
   ]
  },
  {
   "cell_type": "code",
   "execution_count": 22,
   "metadata": {},
   "outputs": [],
   "source": [
    "df = df.sort_values(by=['Order_Col','Sub_Order_Col']).reset_index(drop=True)"
   ]
  },
  {
   "cell_type": "code",
   "execution_count": 23,
   "metadata": {},
   "outputs": [
    {
     "name": "stdout",
     "output_type": "stream",
     "text": [
      "Debits equal credits. Proceed to next phase\n"
     ]
    }
   ],
   "source": [
    "if financialstatements.debit_credit_check(df) == True:\n",
    "    print(\"Debits equal credits. Proceed to next phase\")\n",
    "else:\n",
    "    print(\"Something went wrong\")"
   ]
  },
  {
   "cell_type": "code",
   "execution_count": 24,
   "metadata": {},
   "outputs": [],
   "source": [
    "type = 'creditcard'"
   ]
  },
  {
   "cell_type": "code",
   "execution_count": 25,
   "metadata": {},
   "outputs": [],
   "source": [
    "financialstatements.creating_output(df, month_df, type, config, cwd)"
   ]
  }
 ],
 "metadata": {
  "kernelspec": {
   "display_name": "venv_mac",
   "language": "python",
   "name": "python3"
  },
  "language_info": {
   "codemirror_mode": {
    "name": "ipython",
    "version": 3
   },
   "file_extension": ".py",
   "mimetype": "text/x-python",
   "name": "python",
   "nbconvert_exporter": "python",
   "pygments_lexer": "ipython3",
   "version": "3.10.11"
  },
  "orig_nbformat": 4
 },
 "nbformat": 4,
 "nbformat_minor": 2
}
