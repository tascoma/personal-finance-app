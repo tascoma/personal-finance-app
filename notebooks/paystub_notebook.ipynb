{
 "cells": [
  {
   "attachments": {},
   "cell_type": "markdown",
   "metadata": {},
   "source": [
    "## Imports"
   ]
  },
  {
   "cell_type": "code",
   "execution_count": 86,
   "metadata": {},
   "outputs": [],
   "source": [
    "import pandas as pd\n",
    "import numpy as np\n",
    "import tabula\n",
    "import configparser\n",
    "import os\n"
   ]
  },
  {
   "cell_type": "code",
   "execution_count": 87,
   "metadata": {},
   "outputs": [],
   "source": [
    "cwd = os.getcwd()"
   ]
  },
  {
   "attachments": {},
   "cell_type": "markdown",
   "metadata": {},
   "source": [
    "## Config"
   ]
  },
  {
   "cell_type": "code",
   "execution_count": 88,
   "metadata": {},
   "outputs": [
    {
     "data": {
      "text/plain": [
       "['c:\\\\Users\\\\Tony\\\\OneDrive\\\\Python\\\\Projects\\\\financialstatements\\\\financialstatements\\\\notebooks\\\\../docs/config.ini']"
      ]
     },
     "execution_count": 88,
     "metadata": {},
     "output_type": "execute_result"
    }
   ],
   "source": [
    "#Creating configuration\n",
    "config_path = os.path.join(cwd, '../docs/config.ini')\n",
    "config = configparser.ConfigParser()\n",
    "config.read(config_path)"
   ]
  },
  {
   "attachments": {},
   "cell_type": "markdown",
   "metadata": {},
   "source": [
    "## Utility Functions"
   ]
  },
  {
   "cell_type": "code",
   "execution_count": 89,
   "metadata": {},
   "outputs": [],
   "source": [
    "def creating_input_paths(directory):\n",
    "    files = os.listdir(directory)\n",
    "    paths = []\n",
    "    for file in files:\n",
    "        path = os.path.join(directory, file)\n",
    "        paths.append(path)\n",
    "    return paths"
   ]
  },
  {
   "cell_type": "code",
   "execution_count": 90,
   "metadata": {},
   "outputs": [],
   "source": [
    "def debit_credit_check(df):\n",
    "    debit_total = df['DEBIT'].sum()\n",
    "    credit_total = df['CREDIT'].sum()\n",
    "    return debit_total == credit_total"
   ]
  },
  {
   "cell_type": "code",
   "execution_count": 91,
   "metadata": {},
   "outputs": [],
   "source": [
    "def creating_output(df, month_df, type, config, cwd):\n",
    "    df['Month_Num'] = df['Date'].dt.month\n",
    "    df['Transaction_ID'] = type + '-' + \\\n",
    "        df['Month_Num'].astype(\"str\") + '-' + (df.index + 1).astype(\"str\")\n",
    "    df = pd.merge(df,\n",
    "                  month_df,\n",
    "                  on='Month_Num',\n",
    "                  how='left')\n",
    "    months = df['Month'].unique()\n",
    "    file_path = os.path.join(cwd, config.get(\n",
    "        \"data_outputs_directory\", \"JOURNAL_ENTRIES\"))\n",
    "    month_num = 1\n",
    "    for month in months:\n",
    "        file_df = df[df['Month'] == month]\n",
    "        file_df = file_df[['Transaction_ID', 'Date', 'GL_Code',\n",
    "                           'Account', 'Description', 'DEBIT', 'CREDIT']]\n",
    "        file_name = f'{month_num}_{type}_{month}_entries.csv'\n",
    "        file_df.to_csv(os.path.join(file_path, file_name), index=False)\n",
    "        month_num += 1"
   ]
  },
  {
   "attachments": {},
   "cell_type": "markdown",
   "metadata": {},
   "source": [
    "## Paystub Functions"
   ]
  },
  {
   "cell_type": "code",
   "execution_count": 92,
   "metadata": {},
   "outputs": [],
   "source": [
    "def creating_df(paths):\n",
    "    dfs = []\n",
    "    for path in paths:\n",
    "        tables = tabula.read_pdf(path, pages = 'all', area = [396, 36, 756, 612], guess = False)\n",
    "        df = pd.concat(tables).reset_index(drop=True)\n",
    "        df['Date'] = path[-14:-4]\n",
    "        dfs.append(df)\n",
    "    return pd.concat(dfs).reset_index(drop=True)"
   ]
  },
  {
   "cell_type": "code",
   "execution_count": 93,
   "metadata": {},
   "outputs": [],
   "source": [
    "def find_deductions(df):\n",
    "    df = df[['Unnamed: 4', 'Unnamed: 5', 'Date']]\n",
    "    df = df.rename(columns = {'Unnamed: 4': 'Item', 'Unnamed: 5':'Amount'})\n",
    "    df = df[1:]\n",
    "    df = df.dropna().reset_index(drop = True)\n",
    "    df = df.query(\"Item != 'Total' and Item != 'DEDUCTIONS' and Item != 'CURRENT'\")\n",
    "    return df"
   ]
  },
  {
   "cell_type": "code",
   "execution_count": 94,
   "metadata": {},
   "outputs": [],
   "source": [
    "def find_earnings(df):\n",
    "    df = df[['Unnamed: 0', 'Unnamed: 3', 'Date']]\n",
    "    df = df.rename(columns = {'Unnamed: 0': 'Item', 'Unnamed: 3':'Amount'})\n",
    "    df = df[1:]\n",
    "    df = df.dropna().reset_index(drop = True)\n",
    "    df = df.query(\"Item != 'Total' and Item != 'TAX' and Item != 'EARNINGS'\")\n",
    "    return df"
   ]
  },
  {
   "cell_type": "code",
   "execution_count": 95,
   "metadata": {},
   "outputs": [],
   "source": [
    "def processing_df(deductions_df, earnings_df, coa_purch_df):\n",
    "    df = pd.concat([deductions_df, earnings_df]).reset_index(drop=True)\n",
    "    df = pd.merge(df, \n",
    "              coa_purch_df,\n",
    "                on = 'Item',\n",
    "                how = 'left')\n",
    "    df = df.rename(columns = {'Item': 'Description'})\n",
    "    df = df[['Date', 'GL_Code', 'Account', 'Description', 'Amount', 'Category', 'Account_Type', 'Order_Col']]\n",
    "    df['Date'] = pd.to_datetime(df['Date'])\n",
    "    df['Amount'] = df['Amount'].str.replace('$', '', regex=False)\n",
    "    df['DEBIT'] = np.where(df['Account_Type'].isin(['Asset', 'Deduction']), df['Amount'], np.nan)\n",
    "    df['CREDIT'] = np.where(df['Account_Type'] == 'Revenue', df['Amount'],np.nan)\n",
    "    df['DEBIT'] = df['DEBIT'].str.replace(',', '').astype('float')\n",
    "    df['CREDIT'] = df['CREDIT'].str.replace(',', '').astype('float')\n",
    "    return df"
   ]
  },
  {
   "cell_type": "code",
   "execution_count": 96,
   "metadata": {},
   "outputs": [],
   "source": [
    "def creating_cash_entries(df):\n",
    "    df_grouped = df.groupby('Date', as_index=False)[['DEBIT', 'CREDIT']].sum()\n",
    "    df_grouped['DEBIT'] = df_grouped['CREDIT'] - df_grouped['DEBIT']\n",
    "    df_grouped['CREDIT'] = np.nan\n",
    "    df_grouped['GL_Code'] = 100101\n",
    "    df_grouped['Account'] = 'Free Checking Bank OZK'\n",
    "    df_grouped['Description'] = 'Cash from paystub'\n",
    "    df_grouped['Amount'] = df_grouped['DEBIT']\n",
    "    df_grouped['Category'] = 'Cash'\n",
    "    df_grouped['Account_Type'] = 'Asset'\n",
    "    df_grouped['Order_Col'] = 1\n",
    "    df_grouped = df_grouped[['Date', 'GL_Code', 'Account', 'Description',\n",
    "       'Amount', 'Category', 'Account_Type', 'Order_Col','DEBIT', 'CREDIT']]\n",
    "    return pd.concat([df, df_grouped]).reset_index(drop=True)"
   ]
  },
  {
   "attachments": {},
   "cell_type": "markdown",
   "metadata": {},
   "source": [
    "## Reading Data"
   ]
  },
  {
   "attachments": {},
   "cell_type": "markdown",
   "metadata": {},
   "source": [
    "### Paystubs"
   ]
  },
  {
   "cell_type": "code",
   "execution_count": 97,
   "metadata": {},
   "outputs": [],
   "source": [
    "PAYSTUB_DIRECTORY = os.path.join(cwd, config.get(\"data_inputs_directory\", \"PAYSTUB_DIRECTORY\"))"
   ]
  },
  {
   "cell_type": "code",
   "execution_count": 98,
   "metadata": {},
   "outputs": [],
   "source": [
    "paths = creating_input_paths(PAYSTUB_DIRECTORY)"
   ]
  },
  {
   "attachments": {},
   "cell_type": "markdown",
   "metadata": {},
   "source": [
    "### Table Data"
   ]
  },
  {
   "cell_type": "code",
   "execution_count": 99,
   "metadata": {},
   "outputs": [],
   "source": [
    "COA_DATA = config.get('table_files', 'COA_DATA')\n",
    "MONTH_DATA = config.get('table_files', 'MONTH_DATA')"
   ]
  },
  {
   "cell_type": "code",
   "execution_count": 100,
   "metadata": {},
   "outputs": [],
   "source": [
    "coa_purch_df = pd.read_excel(COA_DATA, sheet_name='coa_paystub_link_table')"
   ]
  },
  {
   "cell_type": "code",
   "execution_count": 101,
   "metadata": {},
   "outputs": [],
   "source": [
    "month_df = pd.read_excel(MONTH_DATA)"
   ]
  },
  {
   "attachments": {},
   "cell_type": "markdown",
   "metadata": {},
   "source": [
    "## ETL"
   ]
  },
  {
   "cell_type": "code",
   "execution_count": 102,
   "metadata": {},
   "outputs": [],
   "source": [
    "df = creating_df(paths)"
   ]
  },
  {
   "cell_type": "code",
   "execution_count": 103,
   "metadata": {},
   "outputs": [],
   "source": [
    "deductions_df = find_deductions(df)"
   ]
  },
  {
   "cell_type": "code",
   "execution_count": 104,
   "metadata": {},
   "outputs": [],
   "source": [
    "earnings_df = find_earnings(df)"
   ]
  },
  {
   "cell_type": "code",
   "execution_count": 105,
   "metadata": {},
   "outputs": [
    {
     "name": "stderr",
     "output_type": "stream",
     "text": [
      "C:\\Users\\Tony\\AppData\\Local\\Temp\\ipykernel_16036\\1881938269.py:10: FutureWarning: The default value of regex will change from True to False in a future version. In addition, single character regular expressions will *not* be treated as literal strings when regex=True.\n",
      "  df['Amount'] = df['Amount'].str.replace('$', '')\n"
     ]
    }
   ],
   "source": [
    "df = processing_df(deductions_df, earnings_df, coa_purch_df)"
   ]
  },
  {
   "cell_type": "code",
   "execution_count": 106,
   "metadata": {},
   "outputs": [],
   "source": [
    "df = creating_cash_entries(df)"
   ]
  },
  {
   "cell_type": "code",
   "execution_count": 107,
   "metadata": {},
   "outputs": [],
   "source": [
    "df = df.sort_values(by=['Date', 'Order_Col']).reset_index(drop=True)"
   ]
  },
  {
   "cell_type": "code",
   "execution_count": 109,
   "metadata": {},
   "outputs": [],
   "source": [
    "type = 'paystub'"
   ]
  },
  {
   "cell_type": "code",
   "execution_count": 110,
   "metadata": {},
   "outputs": [],
   "source": [
    "creating_output(df, month_df, type, config, cwd)"
   ]
  }
 ],
 "metadata": {
  "kernelspec": {
   "display_name": "venv_mac",
   "language": "python",
   "name": "python3"
  },
  "language_info": {
   "codemirror_mode": {
    "name": "ipython",
    "version": 3
   },
   "file_extension": ".py",
   "mimetype": "text/x-python",
   "name": "python",
   "nbconvert_exporter": "python",
   "pygments_lexer": "ipython3",
   "version": "3.11.0"
  },
  "orig_nbformat": 4
 },
 "nbformat": 4,
 "nbformat_minor": 2
}
