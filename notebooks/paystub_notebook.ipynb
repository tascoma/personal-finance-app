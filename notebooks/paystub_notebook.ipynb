{
 "cells": [
  {
   "attachments": {},
   "cell_type": "markdown",
   "metadata": {},
   "source": [
    "## Imports"
   ]
  },
  {
   "cell_type": "code",
   "execution_count": 209,
   "metadata": {},
   "outputs": [],
   "source": [
    "import pandas as pd\n",
    "import numpy as np\n",
    "import tabula\n",
    "import configparser\n",
    "import os\n"
   ]
  },
  {
   "cell_type": "code",
   "execution_count": 210,
   "metadata": {},
   "outputs": [],
   "source": [
    "cwd = os.getcwd()"
   ]
  },
  {
   "cell_type": "code",
   "execution_count": 211,
   "metadata": {},
   "outputs": [],
   "source": [
    "pd.set_option('display.max_rows', None)"
   ]
  },
  {
   "attachments": {},
   "cell_type": "markdown",
   "metadata": {},
   "source": [
    "## Config"
   ]
  },
  {
   "cell_type": "code",
   "execution_count": 212,
   "metadata": {},
   "outputs": [
    {
     "data": {
      "text/plain": [
       "['c:\\\\Users\\\\tasco\\\\OneDrive\\\\Python\\\\Projects\\\\financialstatements\\\\financialstatements\\\\notebooks\\\\../docs/config.ini']"
      ]
     },
     "execution_count": 212,
     "metadata": {},
     "output_type": "execute_result"
    }
   ],
   "source": [
    "#Creating configuration\n",
    "config_path = os.path.join(cwd, '../docs/config.ini')\n",
    "config = configparser.ConfigParser()\n",
    "config.read(config_path)"
   ]
  },
  {
   "attachments": {},
   "cell_type": "markdown",
   "metadata": {},
   "source": [
    "## Reading Data"
   ]
  },
  {
   "attachments": {},
   "cell_type": "markdown",
   "metadata": {},
   "source": [
    "### Paystubs"
   ]
  },
  {
   "cell_type": "code",
   "execution_count": 213,
   "metadata": {},
   "outputs": [],
   "source": [
    "PAYSTUB_DIRECTORY = os.path.join(cwd, config.get(\"data_inputs_directory\", \"PAYSTUB_DIRECTORY\"))"
   ]
  },
  {
   "cell_type": "code",
   "execution_count": 214,
   "metadata": {},
   "outputs": [],
   "source": [
    "paystubs_files = os.listdir(PAYSTUB_DIRECTORY)"
   ]
  },
  {
   "cell_type": "code",
   "execution_count": 215,
   "metadata": {},
   "outputs": [],
   "source": [
    "paystub_paths = []\n",
    "for file in paystubs_files:\n",
    "    path = os.path.join(PAYSTUB_DIRECTORY, file)\n",
    "    paystub_paths.append(path)"
   ]
  },
  {
   "cell_type": "code",
   "execution_count": 216,
   "metadata": {},
   "outputs": [],
   "source": [
    "dfs = []\n",
    "for path in paystub_paths:\n",
    "    tables = tabula.read_pdf(path, pages = 'all', area = [396, 36, 756, 612], guess = False)\n",
    "    df = pd.concat(tables).reset_index(drop=True)\n",
    "    df['Date'] = path[-14:-4]\n",
    "    dfs.append(df)\n"
   ]
  },
  {
   "cell_type": "code",
   "execution_count": 217,
   "metadata": {},
   "outputs": [],
   "source": [
    "df = pd.concat(dfs).reset_index(drop=True)"
   ]
  },
  {
   "attachments": {},
   "cell_type": "markdown",
   "metadata": {},
   "source": [
    "### Table Data"
   ]
  },
  {
   "cell_type": "code",
   "execution_count": 218,
   "metadata": {},
   "outputs": [],
   "source": [
    "COA_DATA = config.get('table_files', 'COA_DATA')\n",
    "MONTH_DATA = config.get('table_files', 'MONTH_DATA')"
   ]
  },
  {
   "cell_type": "code",
   "execution_count": 219,
   "metadata": {},
   "outputs": [],
   "source": [
    "coa_purch_df = pd.read_excel(COA_DATA, sheet_name='coa_paystub_link_table')"
   ]
  },
  {
   "cell_type": "code",
   "execution_count": 220,
   "metadata": {},
   "outputs": [],
   "source": [
    "month_df = pd.read_excel(MONTH_DATA)"
   ]
  },
  {
   "attachments": {},
   "cell_type": "markdown",
   "metadata": {},
   "source": [
    "## ETL"
   ]
  },
  {
   "cell_type": "code",
   "execution_count": 221,
   "metadata": {},
   "outputs": [],
   "source": [
    "def find_deductions(df):\n",
    "    df = df[['Unnamed: 4', 'Unnamed: 5', 'Date']]\n",
    "    df = df.rename(columns = {'Unnamed: 4': 'Item', 'Unnamed: 5':'Amount'})\n",
    "    df = df[1:]\n",
    "    df = df.dropna().reset_index(drop = True)\n",
    "    df = df.query(\"Item != 'Total' and Item != 'DEDUCTIONS' and Item != 'CURRENT'\")\n",
    "    return df"
   ]
  },
  {
   "cell_type": "code",
   "execution_count": 222,
   "metadata": {},
   "outputs": [],
   "source": [
    "def find_earnings(df):\n",
    "    df = df[['Unnamed: 0', 'Unnamed: 3', 'Date']]\n",
    "    df = df.rename(columns = {'Unnamed: 0': 'Item', 'Unnamed: 3':'Amount'})\n",
    "    df = df[1:]\n",
    "    df = df.dropna().reset_index(drop = True)\n",
    "    df = df.query(\"Item != 'Total' and Item != 'TAX' and Item != 'EARNINGS'\")\n",
    "    return df"
   ]
  },
  {
   "cell_type": "code",
   "execution_count": 223,
   "metadata": {},
   "outputs": [],
   "source": [
    "deductions_df = find_deductions(df)"
   ]
  },
  {
   "cell_type": "code",
   "execution_count": 224,
   "metadata": {},
   "outputs": [],
   "source": [
    "earnings_df = find_earnings(df)"
   ]
  },
  {
   "cell_type": "code",
   "execution_count": 225,
   "metadata": {},
   "outputs": [],
   "source": [
    "df = pd.concat([deductions_df, earnings_df]).reset_index(drop=True)"
   ]
  },
  {
   "cell_type": "code",
   "execution_count": 226,
   "metadata": {},
   "outputs": [],
   "source": [
    "df = pd.merge(df, \n",
    "              coa_purch_df,\n",
    "                on = 'Item',\n",
    "                how = 'left')"
   ]
  },
  {
   "cell_type": "code",
   "execution_count": 227,
   "metadata": {},
   "outputs": [],
   "source": [
    "df = df.rename(columns = {'Item': 'Description'})"
   ]
  },
  {
   "cell_type": "code",
   "execution_count": 228,
   "metadata": {},
   "outputs": [],
   "source": [
    "df = df[['Date', 'GL_Code', 'Account', 'Description', 'Amount', 'Category', 'Account_Type', 'Order_Col']]"
   ]
  },
  {
   "cell_type": "code",
   "execution_count": 229,
   "metadata": {},
   "outputs": [
    {
     "name": "stderr",
     "output_type": "stream",
     "text": [
      "C:\\Users\\tasco\\AppData\\Local\\Temp\\ipykernel_16944\\2968322386.py:2: FutureWarning: The default value of regex will change from True to False in a future version. In addition, single character regular expressions will *not* be treated as literal strings when regex=True.\n",
      "  df['Amount'] = df['Amount'].str.replace('$', '')\n"
     ]
    }
   ],
   "source": [
    "df['Date'] = pd.to_datetime(df['Date'])\n",
    "df['Amount'] = df['Amount'].str.replace('$', '')"
   ]
  },
  {
   "cell_type": "code",
   "execution_count": 230,
   "metadata": {},
   "outputs": [],
   "source": [
    "df = df.sort_values(by = 'Date').reset_index(drop = True)"
   ]
  },
  {
   "cell_type": "code",
   "execution_count": 231,
   "metadata": {},
   "outputs": [],
   "source": [
    "df['DEBIT'] = np.where(df['Account_Type'].isin(['Asset', 'Deduction']), df['Amount'], np.nan)\n",
    "df['CREDIT'] = np.where(df['Account_Type'] == 'Revenue', df['Amount'],np.nan)"
   ]
  },
  {
   "cell_type": "code",
   "execution_count": 232,
   "metadata": {},
   "outputs": [],
   "source": [
    "df['DEBIT'] = df['DEBIT'].str.replace(',', '').astype('float')\n",
    "df['CREDIT'] = df['CREDIT'].str.replace(',', '').astype('float')"
   ]
  },
  {
   "cell_type": "code",
   "execution_count": 233,
   "metadata": {},
   "outputs": [],
   "source": [
    "df_grouped = df.groupby('Date', as_index=False)[['DEBIT', 'CREDIT']].sum()\n",
    "df_grouped['DEBIT'] = df_grouped['CREDIT'] - df_grouped['DEBIT']\n",
    "df_grouped['CREDIT'] = np.nan\n",
    "df_grouped['GL_Code'] = 100101\n",
    "df_grouped['Account'] = 'Free Checking Bank OZK'\n",
    "df_grouped['Description'] = 'Cash from paystub'\n",
    "df_grouped['Amount'] = df_grouped['DEBIT']\n",
    "df_grouped['Category'] = 'Cash'\n",
    "df_grouped['Account_Type'] = 'Asset'\n",
    "df_grouped['Order_Col'] = 1"
   ]
  },
  {
   "cell_type": "code",
   "execution_count": 234,
   "metadata": {},
   "outputs": [],
   "source": [
    "df_grouped = df_grouped[['Date', 'GL_Code', 'Account', 'Description',\n",
    "       'Amount', 'Category', 'Account_Type', 'Order_Col','DEBIT', 'CREDIT']]"
   ]
  },
  {
   "cell_type": "code",
   "execution_count": 235,
   "metadata": {},
   "outputs": [],
   "source": [
    "df = pd.concat([df, df_grouped]).reset_index(drop=True)"
   ]
  },
  {
   "cell_type": "code",
   "execution_count": 236,
   "metadata": {},
   "outputs": [],
   "source": [
    "df['DEBIT'] = np.where(df['Account_Type'].isin(['Asset', 'Deduction']), df['Amount'], np.nan)\n",
    "df['CREDIT'] = np.where(df['Account_Type'] == 'Revenue', df['Amount'],np.nan)"
   ]
  },
  {
   "cell_type": "code",
   "execution_count": 237,
   "metadata": {},
   "outputs": [],
   "source": [
    "df = df.sort_values(by=['Date', 'Order_Col']).reset_index(drop=True)"
   ]
  },
  {
   "cell_type": "code",
   "execution_count": 238,
   "metadata": {},
   "outputs": [],
   "source": [
    "df['Month_Num'] = df['Date'].dt.month"
   ]
  },
  {
   "cell_type": "code",
   "execution_count": 239,
   "metadata": {},
   "outputs": [],
   "source": [
    "df['Transaction_ID'] = 'ps-' + df['Month_Num'].astype(\"str\") + '-' + (df.index + 1).astype(\"str\")"
   ]
  },
  {
   "cell_type": "code",
   "execution_count": 240,
   "metadata": {},
   "outputs": [],
   "source": [
    "df = pd.merge(df,\n",
    "              month_df,\n",
    "              on='Month_Num',\n",
    "              how='left')"
   ]
  },
  {
   "cell_type": "code",
   "execution_count": 241,
   "metadata": {},
   "outputs": [],
   "source": [
    "months = df['Month'].unique()"
   ]
  },
  {
   "cell_type": "code",
   "execution_count": 244,
   "metadata": {},
   "outputs": [],
   "source": [
    "file_path = config.get(\"data_outputs_directory\", \"JOURNAL_ENTRIES\")\n",
    "month_num = 1\n",
    "for month in months:\n",
    "    file_df = df[df['Month'] == month]\n",
    "    file_df =  file_df[['Transaction_ID','Date', 'GL_Code', 'Account', 'Description', 'DEBIT', 'CREDIT']]\n",
    "    file_name = f'{month_num}_paystub_{month}_entries.csv'\n",
    "    file_df.to_csv(os.path.join(file_path, file_name), index=False)\n",
    "    month_num += 1"
   ]
  }
 ],
 "metadata": {
  "kernelspec": {
   "display_name": "venv_mac",
   "language": "python",
   "name": "python3"
  },
  "language_info": {
   "codemirror_mode": {
    "name": "ipython",
    "version": 3
   },
   "file_extension": ".py",
   "mimetype": "text/x-python",
   "name": "python",
   "nbconvert_exporter": "python",
   "pygments_lexer": "ipython3",
   "version": "3.10.11"
  },
  "orig_nbformat": 4
 },
 "nbformat": 4,
 "nbformat_minor": 2
}
