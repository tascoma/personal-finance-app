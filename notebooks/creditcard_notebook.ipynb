{
 "cells": [
  {
   "attachments": {},
   "cell_type": "markdown",
   "metadata": {},
   "source": [
    "## Imports"
   ]
  },
  {
   "cell_type": "code",
   "execution_count": 180,
   "metadata": {},
   "outputs": [],
   "source": [
    "import pandas as pd\n",
    "import numpy as np\n",
    "import configparser\n",
    "import os"
   ]
  },
  {
   "cell_type": "code",
   "execution_count": 181,
   "metadata": {},
   "outputs": [],
   "source": [
    "cwd = os.getcwd()"
   ]
  },
  {
   "cell_type": "markdown",
   "metadata": {},
   "source": [
    "## Config"
   ]
  },
  {
   "cell_type": "code",
   "execution_count": 182,
   "metadata": {},
   "outputs": [
    {
     "data": {
      "text/plain": [
       "['c:\\\\Users\\\\tasco\\\\OneDrive\\\\Python\\\\Projects\\\\financialstatements\\\\financialstatements\\\\notebooks\\\\../docs/config.ini']"
      ]
     },
     "execution_count": 182,
     "metadata": {},
     "output_type": "execute_result"
    }
   ],
   "source": [
    "#Creating configuration\n",
    "config_path = os.path.join(cwd, '../docs/config.ini')\n",
    "config = configparser.ConfigParser()\n",
    "config.read(config_path)"
   ]
  },
  {
   "attachments": {},
   "cell_type": "markdown",
   "metadata": {},
   "source": [
    "## Utility Functions"
   ]
  },
  {
   "cell_type": "code",
   "execution_count": 183,
   "metadata": {},
   "outputs": [],
   "source": [
    "def creating_input_paths(directory):\n",
    "    files = os.listdir(directory)\n",
    "    paths = []\n",
    "    for file in files:\n",
    "        path = os.path.join(directory, file)\n",
    "        paths.append(path)\n",
    "    return paths"
   ]
  },
  {
   "cell_type": "code",
   "execution_count": 184,
   "metadata": {},
   "outputs": [],
   "source": [
    "def missing_gl_check(df):\n",
    "    null_count = df['GL_Code'].isnull().sum()\n",
    "    return null_count"
   ]
  },
  {
   "cell_type": "code",
   "execution_count": 185,
   "metadata": {},
   "outputs": [],
   "source": [
    "def missing_mcc(df):\n",
    "    df = df[df['GL_Code'].isnull()]\n",
    "    return print(df)"
   ]
  },
  {
   "cell_type": "code",
   "execution_count": 186,
   "metadata": {},
   "outputs": [],
   "source": [
    "def debit_credit_check(df):\n",
    "    debit_total = df['DEBIT'].sum()\n",
    "    credit_total = df['CREDIT'].sum()\n",
    "    return debit_total == credit_total"
   ]
  },
  {
   "cell_type": "code",
   "execution_count": 187,
   "metadata": {},
   "outputs": [],
   "source": [
    "def creating_output(df, month_df, type, config):\n",
    "    df['Month_Num'] = df['Date'].dt.month\n",
    "    df['Transaction_ID'] = type + df['Month_Num'].astype(\"str\") + '-' + (df.index + 1).astype(\"str\")\n",
    "    df = pd.merge(df,\n",
    "                  month_df,\n",
    "                  on='Month_Num',\n",
    "                  how='left')\n",
    "    months = df['Month'].unique()\n",
    "    file_path = config.get(\"data_outputs_directory\", \"JOURNAL_ENTRIES\")\n",
    "    month_num = 1\n",
    "    for month in months:\n",
    "        file_df = df[df['Month'] == month]\n",
    "        file_df =  file_df[['Transaction_ID','Date', 'GL_Code', 'Account', 'Description', 'DEBIT', 'CREDIT']]\n",
    "        file_name = f'{month_num}_{type}_{month}_entries.csv'\n",
    "        file_df.to_csv(os.path.join(file_path, file_name), index=False)\n",
    "        month_num += 1"
   ]
  },
  {
   "attachments": {},
   "cell_type": "markdown",
   "metadata": {},
   "source": [
    "## Credit Card ETL Functions"
   ]
  },
  {
   "cell_type": "code",
   "execution_count": 188,
   "metadata": {},
   "outputs": [],
   "source": [
    "def creating_df(paths):\n",
    "    dfs = []\n",
    "    for path in paths:\n",
    "        df = pd.read_csv(path)\n",
    "        dfs.append(df)\n",
    "    return pd.concat(dfs).reset_index(drop=True)"
   ]
  },
  {
   "cell_type": "code",
   "execution_count": 189,
   "metadata": {},
   "outputs": [],
   "source": [
    "def joining_gl_codes(df, coa_mcc_df):\n",
    "    df['Amount'] = df['Amount'].abs()\n",
    "    df = df.pivot_table(index = ['Date', 'Name', 'Memo'], columns='Transaction', values='Amount')\n",
    "    df = df.reset_index()\n",
    "    df[['Memo', 'MCC', 'Blank']] = df['Memo'].str.split(';', expand=True)\n",
    "    df['MCC'] = df['MCC'].str[-4:]\n",
    "    df['MCC'] = df['MCC'].astype('int')\n",
    "    df = pd.merge(df, \n",
    "              coa_mcc_df, \n",
    "              how='left',\n",
    "              on='MCC')\n",
    "    return df"
   ]
  },
  {
   "cell_type": "code",
   "execution_count": 190,
   "metadata": {},
   "outputs": [],
   "source": [
    "def processing_df(df):\n",
    "    df['Date'] = pd.to_datetime(df['Date'])\n",
    "    df['Description'] = df['MCC_Description'] + ': ' + df['Name']\n",
    "    df = df[['Date', 'GL_Code', 'Account', 'Description','DEBIT', 'CREDIT']]\n",
    "    df = df.round(2)\n",
    "    df = df.sort_values(by='Date').reset_index(drop=True)\n",
    "    df['Order_Col'] = df.index + 1\n",
    "    df['Sub_Order_Col'] = np.where(df['DEBIT'].isnull(), 2, 1)\n",
    "    return df"
   ]
  },
  {
   "cell_type": "code",
   "execution_count": 191,
   "metadata": {},
   "outputs": [],
   "source": [
    "def creating_credit_entries(df):\n",
    "    df = df[df['CREDIT'].isnull()].reset_index(drop=True).copy()\n",
    "    df['GL_Code'] = 200101\n",
    "    df['Account'] = 'EdwardJones MasterCard'\n",
    "    df['Sub_Order_Col'] = 2\n",
    "    df = df.rename(columns={'DEBIT':'CREDIT', 'CREDIT': 'DEBIT'})\n",
    "    return df[['Date', 'GL_Code', 'Account', 'Description','DEBIT','CREDIT','Order_Col', 'Sub_Order_Col']]"
   ]
  },
  {
   "cell_type": "code",
   "execution_count": 192,
   "metadata": {},
   "outputs": [],
   "source": [
    "def creating_debit_entries(df):\n",
    "    df = df[df['DEBIT'].isnull()].reset_index(drop=True).copy()\n",
    "    df['GL_Code'] = 200101\n",
    "    df['Account'] = 'EdwardJones MasterCard'\n",
    "    df['Sub_Order_Col'] = 1\n",
    "    df = df.rename(columns={'DEBIT':'CREDIT', 'CREDIT': 'DEBIT'})\n",
    "    return df[['Date', 'GL_Code', 'Account', 'Description','DEBIT','CREDIT','Order_Col','Sub_Order_Col']]"
   ]
  },
  {
   "attachments": {},
   "cell_type": "markdown",
   "metadata": {},
   "source": [
    "## Reading Data"
   ]
  },
  {
   "attachments": {},
   "cell_type": "markdown",
   "metadata": {},
   "source": [
    "### Credit Card Data"
   ]
  },
  {
   "cell_type": "code",
   "execution_count": 193,
   "metadata": {},
   "outputs": [],
   "source": [
    "# Creating directory to credit card data\n",
    "CREDITCARD_DIRECTORY = os.path.join(cwd,config.get(\"data_inputs_directory\", \"CREDITCARD_DIRECTORY\"))"
   ]
  },
  {
   "cell_type": "code",
   "execution_count": 194,
   "metadata": {},
   "outputs": [],
   "source": [
    "paths = creating_input_paths(CREDITCARD_DIRECTORY)"
   ]
  },
  {
   "cell_type": "code",
   "execution_count": 195,
   "metadata": {},
   "outputs": [],
   "source": [
    "df = creating_df(paths)"
   ]
  },
  {
   "attachments": {},
   "cell_type": "markdown",
   "metadata": {},
   "source": [
    "### Table Data"
   ]
  },
  {
   "cell_type": "code",
   "execution_count": 196,
   "metadata": {},
   "outputs": [],
   "source": [
    "COA_DATA = config.get('table_files', 'COA_DATA')\n",
    "MONTH_DATA = config.get('table_files', 'MONTH_DATA')"
   ]
  },
  {
   "cell_type": "code",
   "execution_count": 197,
   "metadata": {},
   "outputs": [],
   "source": [
    "coa_mcc_df = pd.read_excel(COA_DATA, sheet_name='coa_mcc_link_table')"
   ]
  },
  {
   "cell_type": "code",
   "execution_count": 198,
   "metadata": {},
   "outputs": [],
   "source": [
    "month_df = pd.read_excel(MONTH_DATA)"
   ]
  },
  {
   "attachments": {},
   "cell_type": "markdown",
   "metadata": {},
   "source": [
    "## ETL"
   ]
  },
  {
   "cell_type": "code",
   "execution_count": 199,
   "metadata": {},
   "outputs": [],
   "source": [
    "df = joining_gl_codes(df, coa_mcc_df)"
   ]
  },
  {
   "cell_type": "code",
   "execution_count": 200,
   "metadata": {},
   "outputs": [
    {
     "name": "stdout",
     "output_type": "stream",
     "text": [
      "No GL_Codes missing\n"
     ]
    }
   ],
   "source": [
    "# Logic gate for checking nulls in the GL_Code column\n",
    "if missing_gl_check(df) != 0:\n",
    "    print(\"GL_Codes are missing, need to update the coa and mcc link table\")\n",
    "    missing_mcc(df)\n",
    "else:\n",
    "    print(\"No GL_Codes missing\")"
   ]
  },
  {
   "cell_type": "code",
   "execution_count": 201,
   "metadata": {},
   "outputs": [],
   "source": [
    "df = processing_df(df)"
   ]
  },
  {
   "cell_type": "code",
   "execution_count": 202,
   "metadata": {},
   "outputs": [],
   "source": [
    "credit_entries_df = creating_credit_entries(df)"
   ]
  },
  {
   "cell_type": "code",
   "execution_count": 203,
   "metadata": {},
   "outputs": [],
   "source": [
    "debit_entries_df = creating_debit_entries(df)"
   ]
  },
  {
   "cell_type": "code",
   "execution_count": 204,
   "metadata": {},
   "outputs": [],
   "source": [
    "df = pd.concat([df, credit_entries_df, debit_entries_df]).reset_index(drop=True)"
   ]
  },
  {
   "cell_type": "code",
   "execution_count": 205,
   "metadata": {},
   "outputs": [],
   "source": [
    "df = df.sort_values(by=['Order_Col','Sub_Order_Col']).reset_index(drop=True)"
   ]
  },
  {
   "cell_type": "code",
   "execution_count": 206,
   "metadata": {},
   "outputs": [
    {
     "name": "stdout",
     "output_type": "stream",
     "text": [
      "Debits equal credits. Proceed to next phase\n"
     ]
    }
   ],
   "source": [
    "if debit_credit_check(df) == True:\n",
    "    print(\"Debits equal credits. Proceed to next phase\")\n",
    "else:\n",
    "    print(\"Something went wrong\")"
   ]
  },
  {
   "cell_type": "code",
   "execution_count": 207,
   "metadata": {},
   "outputs": [],
   "source": [
    "type = 'creditcard'"
   ]
  },
  {
   "cell_type": "code",
   "execution_count": 208,
   "metadata": {},
   "outputs": [],
   "source": [
    "creating_output(df, month_df, type, config)"
   ]
  }
 ],
 "metadata": {
  "kernelspec": {
   "display_name": "venv_mac",
   "language": "python",
   "name": "python3"
  },
  "language_info": {
   "codemirror_mode": {
    "name": "ipython",
    "version": 3
   },
   "file_extension": ".py",
   "mimetype": "text/x-python",
   "name": "python",
   "nbconvert_exporter": "python",
   "pygments_lexer": "ipython3",
   "version": "3.10.11"
  },
  "orig_nbformat": 4
 },
 "nbformat": 4,
 "nbformat_minor": 2
}
